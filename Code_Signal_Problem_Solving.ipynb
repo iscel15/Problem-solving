{
  "nbformat": 4,
  "nbformat_minor": 0,
  "metadata": {
    "colab": {
      "provenance": [],
      "authorship_tag": "ABX9TyP4Q/8ihn6SFP/ehA14LIBM",
      "include_colab_link": true
    },
    "kernelspec": {
      "name": "python3",
      "display_name": "Python 3"
    },
    "language_info": {
      "name": "python"
    }
  },
  "cells": [
    {
      "cell_type": "markdown",
      "metadata": {
        "id": "view-in-github",
        "colab_type": "text"
      },
      "source": [
        "<a href=\"https://colab.research.google.com/github/iscel15/Problem-solving/blob/main/Code_Signal_Problem_Solving.ipynb\" target=\"_parent\"><img src=\"https://colab.research.google.com/assets/colab-badge.svg\" alt=\"Open In Colab\"/></a>"
      ]
    },
    {
      "cell_type": "markdown",
      "source": [
        "## The Journey Begins"
      ],
      "metadata": {
        "id": "Uwokm6plNSvg"
      }
    },
    {
      "cell_type": "markdown",
      "source": [
        "### Check Palindrome\n",
        "\n",
        "Given the string, check if it is a palindrome.\n",
        "\n",
        "Palindrome string that doesn't changed when reversed (it reads the same backward and forward).\n"
      ],
      "metadata": {
        "id": "WXOpDTjfDdJD"
      }
    },
    {
      "cell_type": "code",
      "execution_count": 1,
      "metadata": {
        "colab": {
          "base_uri": "https://localhost:8080/"
        },
        "id": "xA0FAJq0AHn1",
        "outputId": "490bc1b4-665c-4c00-9c2a-70c7d5d14c8e"
      },
      "outputs": [
        {
          "output_type": "execute_result",
          "data": {
            "text/plain": [
              "True"
            ]
          },
          "metadata": {},
          "execution_count": 1
        }
      ],
      "source": [
        "\n",
        "def solution(inputString):\n",
        "    # Compare the original string with its reversed version.\n",
        "    # If they are the same, the string is a palindrome.\n",
        "    return inputString == inputString[::-1]\n",
        "solution('eye')"
      ]
    },
    {
      "cell_type": "markdown",
      "source": [
        "### Adjacent Elements Product\n",
        "\n",
        "\n",
        "Given an array of integers, find the pair of adjacent elements that has the largest product and return that product.\n",
        "\n",
        "For inputArray = [3, 6, -2, -5, 7, 3], the output should be\n",
        "solution(inputArray) = 21.\n",
        "\n",
        "7 and 3 produce the largest product."
      ],
      "metadata": {
        "id": "5O0vMcHRD9s2"
      }
    },
    {
      "cell_type": "code",
      "source": [
        "def solution(inputArray):\n",
        "    max_product = float('-inf')  # Initialize the maximum product to negative infinity\n",
        "    \n",
        "    for i in range(len(inputArray) - 1):  # Loop over all adjacent pairs\n",
        "        product = inputArray[i] * inputArray[i+1]  # Calculate the product of the current pair\n",
        "        if product > max_product:  # If the product is greater than the current maximum, update the maximum\n",
        "            max_product = product\n",
        "    \n",
        "    return max_product\n",
        "    \n",
        "solution([3, 6, -2, -5, 7, 3])"
      ],
      "metadata": {
        "colab": {
          "base_uri": "https://localhost:8080/"
        },
        "id": "qOkNasb6EMPr",
        "outputId": "34ae0e5e-c18c-461e-d5ae-18cbf8a96e71"
      },
      "execution_count": 2,
      "outputs": [
        {
          "output_type": "execute_result",
          "data": {
            "text/plain": [
              "21"
            ]
          },
          "metadata": {},
          "execution_count": 2
        }
      ]
    },
    {
      "cell_type": "markdown",
      "source": [
        "### Shape Area\n",
        "\n",
        "Below we will define an n-interesting polygon. Your task is to find the area of a polygon for a given n.\n",
        "\n",
        "A 1-interesting polygon is just a square with a side of length 1. An n-interesting polygon is obtained by taking the n - 1-interesting polygon and appending 1-interesting polygons to its rim, side by side.\n",
        "\n",
        "Example\n",
        "\n",
        "For n = 2, the output should be\n",
        "solution(n) = 5;\n",
        "For n = 3, the output should be\n",
        "solution(n) = 13."
      ],
      "metadata": {
        "id": "elZOKvn1EhXx"
      }
    },
    {
      "cell_type": "code",
      "source": [
        "def solution(n):\n",
        "    if n == 1:\n",
        "        return 1\n",
        "    else:\n",
        "        return solution(n-1) + (n-1)*4\n",
        "\n",
        "solution(2)"
      ],
      "metadata": {
        "colab": {
          "base_uri": "https://localhost:8080/"
        },
        "id": "A4x8fVE_Etqh",
        "outputId": "adc259c1-47a7-4c0a-e771-8db51516a748"
      },
      "execution_count": 3,
      "outputs": [
        {
          "output_type": "execute_result",
          "data": {
            "text/plain": [
              "5"
            ]
          },
          "metadata": {},
          "execution_count": 3
        }
      ]
    },
    {
      "cell_type": "markdown",
      "source": [
        "### Make array consecutive 2\n",
        "\n",
        "Ratiorg got statues of different sizes as a present from CodeMaster for his birthday, each statue having an non-negative integer size. Since he likes to make things perfect, he wants to arrange them from smallest to largest so that each statue will be bigger than the previous one exactly by 1. He may need some additional statues to be able to accomplish that. Help him figure out the minimum number of additional statues needed.\n",
        "\n",
        "Example\n",
        "\n",
        "For statues = [6, 2, 3, 8], the output should be\n",
        "solution(statues) = 3.\n",
        "\n",
        "Ratiorg needs statues of sizes 4, 5 and 7."
      ],
      "metadata": {
        "id": "4xnN3yKDEatN"
      }
    },
    {
      "cell_type": "code",
      "source": [
        "def solution(statues):\n",
        "    statues.sort()\n",
        "    additional_statues = 0\n",
        "    for i in range(len(statues) - 1):\n",
        "        diff = statues[i+1] - statues[i] - 1\n",
        "        if diff > 0:\n",
        "            additional_statues += diff\n",
        "    return additional_statues\n",
        "solution([6, 2, 3, 8])"
      ],
      "metadata": {
        "colab": {
          "base_uri": "https://localhost:8080/"
        },
        "id": "nDHJSuyBE1L4",
        "outputId": "625bbea9-c045-4afa-f308-b62417eb43eb"
      },
      "execution_count": 4,
      "outputs": [
        {
          "output_type": "execute_result",
          "data": {
            "text/plain": [
              "3"
            ]
          },
          "metadata": {},
          "execution_count": 4
        }
      ]
    },
    {
      "cell_type": "markdown",
      "source": [
        "### Almost Increasing Sequence\n",
        "\n",
        "Given a sequence of integers as an array, determine whether it is possible to obtain a strictly increasing sequence by removing no more than one element from the array.\n",
        "\n",
        "Note: sequence a0, a1, ..., an is considered to be a strictly increasing if a0 < a1 < ... < an. Sequence containing only one element is also considered to be strictly increasing.\n",
        "\n",
        "Example\n",
        "\n",
        "For sequence = [1, 3, 2, 1], the output should be\n",
        "solution(sequence) = false.\n",
        "\n",
        "There is no one element in this array that can be removed in order to get a strictly increasing sequence.\n",
        "\n",
        "For sequence = [1, 3, 2], the output should be\n",
        "solution(sequence) = true.\n",
        "\n",
        "You can remove 3 from the array to get the strictly increasing sequence [1, 2]. Alternately, you can remove 2 to get the strictly increasing sequence [1, 3]."
      ],
      "metadata": {
        "id": "43EPZkqYE93W"
      }
    },
    {
      "cell_type": "code",
      "source": [
        "def solution(sequence):\n",
        "    removed = False\n",
        "    for i in range(1, len(sequence)):\n",
        "        if sequence[i] <= sequence[i-1]:\n",
        "            if removed:\n",
        "                return False\n",
        "            if i == 1 or sequence[i] > sequence[i-2]:\n",
        "                sequence[i-1] = sequence[i]\n",
        "            else:\n",
        "                sequence[i] = sequence[i-1]\n",
        "            removed = True\n",
        "    return True\n",
        "\n",
        "solution([1, 3, 2, 1])"
      ],
      "metadata": {
        "colab": {
          "base_uri": "https://localhost:8080/"
        },
        "id": "XpJ2EearE-UO",
        "outputId": "ac798728-f05d-41f4-a47c-7bf0be9949fb"
      },
      "execution_count": 5,
      "outputs": [
        {
          "output_type": "execute_result",
          "data": {
            "text/plain": [
              "False"
            ]
          },
          "metadata": {},
          "execution_count": 5
        }
      ]
    },
    {
      "cell_type": "markdown",
      "source": [
        "### Matrix Element Sum\n",
        "\n",
        "After becoming famous, the CodeBots decided to move into a new building together. Each of the rooms has a different cost, and some of them are free, but there's a rumour that all the free rooms are haunted! Since the CodeBots are quite superstitious, they refuse to stay in any of the free rooms, or any of the rooms below any of the free rooms.\n",
        "\n",
        "Given matrix, a rectangular matrix of integers, where each value represents the cost of the room, your task is to return the total sum of all rooms that are suitable for the CodeBots (ie: add up all the values that don't appear below a 0).\n",
        "\n",
        "Example\n",
        "\n",
        "For\n",
        "\n",
        "matrix = [[0, 1, 1, 2], \n",
        "          [0, 5, 0, 0], \n",
        "          [2, 0, 3, 3]]\n",
        "the output should be\n",
        "solution(matrix) = 9."
      ],
      "metadata": {
        "id": "pD-Zk4SOFRxT"
      }
    },
    {
      "cell_type": "code",
      "source": [
        "def solution(matrix):\n",
        "    rows = len(matrix)\n",
        "    cols = len(matrix[0])\n",
        "    total_cost = 0\n",
        "    haunted = set()\n",
        "    \n",
        "    for i in range(rows):\n",
        "        for j in range(cols):\n",
        "            if matrix[i][j] == 0:\n",
        "                haunted.add(j)\n",
        "            elif j not in haunted:\n",
        "                total_cost += matrix[i][j]\n",
        "    \n",
        "    return total_cost\n",
        "\n",
        "matrix = [[0, 1, 1, 2], [0, 5, 0, 0], [2, 0, 3, 3]]\n",
        "solution(matrix)"
      ],
      "metadata": {
        "colab": {
          "base_uri": "https://localhost:8080/"
        },
        "id": "FMxcb5bdFSL_",
        "outputId": "ffec62d1-1e51-4800-b549-56a670fa603b"
      },
      "execution_count": 6,
      "outputs": [
        {
          "output_type": "execute_result",
          "data": {
            "text/plain": [
              "9"
            ]
          },
          "metadata": {},
          "execution_count": 6
        }
      ]
    },
    {
      "cell_type": "markdown",
      "source": [
        "## Smooth Sailing"
      ],
      "metadata": {
        "id": "J07_D4Y1Md0K"
      }
    },
    {
      "cell_type": "markdown",
      "source": [
        "## All longest Strings\n",
        "\n",
        "Given an array of strings, return another array containing all of its longest strings.\n",
        "\n",
        "Example\n",
        "\n",
        "For inputArray = [\"aba\", \"aa\", \"ad\", \"vcd\", \"aba\"], the output should be\n",
        "solution(inputArray) = [\"aba\", \"vcd\", \"aba\"]."
      ],
      "metadata": {
        "id": "2wZkFzdhFrpc"
      }
    },
    {
      "cell_type": "code",
      "source": [
        "def solution(inputArray):\n",
        "    max_len = max(len(s) for s in inputArray)  # find the maximum length\n",
        "    return [s for s in inputArray if len(s) == max_len]  # return all strings with that length\n",
        "\n",
        "inputArray = [\"aba\", \"aa\", \"ad\", \"vcd\", \"aba\"]\n",
        "solution(inputArray)"
      ],
      "metadata": {
        "colab": {
          "base_uri": "https://localhost:8080/"
        },
        "id": "uw3PVGjIFr_-",
        "outputId": "2e2a18f9-0ca4-4ce1-e9a6-eb7e262b0d09"
      },
      "execution_count": 7,
      "outputs": [
        {
          "output_type": "execute_result",
          "data": {
            "text/plain": [
              "['aba', 'vcd', 'aba']"
            ]
          },
          "metadata": {},
          "execution_count": 7
        }
      ]
    },
    {
      "cell_type": "markdown",
      "source": [
        "### Common Character Count\n",
        "\n",
        "Given two strings, find the number of common characters between them.\n",
        "\n",
        "Example\n",
        "\n",
        "For s1 = \"aabcc\" and s2 = \"adcaa\", the output should be\n",
        "solution(s1, s2) = 3.\n",
        "\n",
        "Strings have 3 common characters - 2 \"a\"s and 1 \"c\"."
      ],
      "metadata": {
        "id": "juCt04i8F-2O"
      }
    },
    {
      "cell_type": "code",
      "source": [
        "def solution(s1, s2):\n",
        "    # Initialize a counter to keep track of common characters\n",
        "    common_count = 0\n",
        "    # Convert the strings to lists of characters\n",
        "    s1_list = list(s1)\n",
        "    s2_list = list(s2)\n",
        "    # Loop through each character in s1_list\n",
        "    for char in s1_list:\n",
        "        # Check if the character is in s2_list\n",
        "        if char in s2_list:\n",
        "            # If it is, increment the common_count by 1\n",
        "            common_count += 1\n",
        "            # Remove the character from s2_list to avoid double-counting\n",
        "            s2_list.remove(char)\n",
        "    # Return the common_count\n",
        "    return common_count\n",
        "\n",
        "s1 = \"aabcc\"\n",
        "s2 = \"adcaa\"\n",
        "solution(s1, s2)"
      ],
      "metadata": {
        "colab": {
          "base_uri": "https://localhost:8080/"
        },
        "id": "kg2vX35qF-lY",
        "outputId": "e37ac17c-62bb-43eb-e2f7-68653c482db7"
      },
      "execution_count": 8,
      "outputs": [
        {
          "output_type": "execute_result",
          "data": {
            "text/plain": [
              "3"
            ]
          },
          "metadata": {},
          "execution_count": 8
        }
      ]
    },
    {
      "cell_type": "markdown",
      "source": [
        "### Is Lucky\n",
        "\n",
        "Ticket numbers usually consist of an even number of digits. A ticket number is considered lucky if the sum of the first half of the digits is equal to the sum of the second half.\n",
        "\n",
        "Given a ticket number n, determine if it's lucky or not.\n",
        "\n",
        "Example\n",
        "\n",
        "For n = 1230, the output should be\n",
        "solution(n) = true;\n",
        "For n = 239017, the output should be\n",
        "solution(n) = false."
      ],
      "metadata": {
        "id": "zPH6f6w5GQ48"
      }
    },
    {
      "cell_type": "code",
      "source": [
        "def solution(n):\n",
        "    #array containing the digits of the ticket number\n",
        "    digits = [int(d) for d in str(n)]\n",
        "    midpoint = len(digits)//2\n",
        "    sum_first_half = sum(digits[:midpoint])\n",
        "    sum_second_half = sum(digits[midpoint:])\n",
        "    Comparison= sum_first_half == sum_second_half\n",
        "    return Comparison\n",
        "\n",
        "\n",
        "solution(1230)\n"
      ],
      "metadata": {
        "colab": {
          "base_uri": "https://localhost:8080/"
        },
        "id": "C8D6KozSGRWU",
        "outputId": "e8c2b93c-cc80-4382-9b87-a4ed6c37d7d2"
      },
      "execution_count": 9,
      "outputs": [
        {
          "output_type": "execute_result",
          "data": {
            "text/plain": [
              "True"
            ]
          },
          "metadata": {},
          "execution_count": 9
        }
      ]
    },
    {
      "cell_type": "markdown",
      "source": [
        "## Sort by height\n",
        "\n",
        "Some people are standing in a row in a park. There are trees between them which cannot be moved. Your task is to rearrange the people by their heights in a non-descending order without moving the trees. People can be very tall!\n",
        "\n",
        "Example\n",
        "\n",
        "For a = [-1, 150, 190, 170, -1, -1, 160, 180], the output should be\n",
        "solution(a) = [-1, 150, 160, 170, -1, -1, 180, 190]."
      ],
      "metadata": {
        "id": "fXD7kuPvHm92"
      }
    },
    {
      "cell_type": "code",
      "source": [
        "def solution(a):\n",
        "    # Get a list of indices of all trees (-1)\n",
        "    tree_indices = [i for i in range(len(a)) if a[i] == -1]\n",
        "    \n",
        "    # Sort the people in non-descending order by height\n",
        "    people = sorted([p for p in a if p != -1])\n",
        "    \n",
        "    # Insert the sorted people back into the original list at non-tree positions\n",
        "    for i in range(len(a)):\n",
        "        if i not in tree_indices:\n",
        "            #The pop() method is a built-in Python method for removing and returning an element from a list. When    called without an argument, it removes and returns the last element in the list. However, when you call pop(0), it removes and returns the element at index 0 (the first element) in the list.\n",
        "            a[i] = people.pop(0)\n",
        "    \n",
        "    return a\n",
        "\n",
        "a = [-1, 150, 190, 170, -1, -1, 160, 180]\n",
        "solution(a)"
      ],
      "metadata": {
        "colab": {
          "base_uri": "https://localhost:8080/"
        },
        "id": "sfbnGnB2Hngs",
        "outputId": "8bc7c1be-674a-4ddd-9dbf-2f0601e13546"
      },
      "execution_count": 10,
      "outputs": [
        {
          "output_type": "execute_result",
          "data": {
            "text/plain": [
              "[-1, 150, 160, 170, -1, -1, 180, 190]"
            ]
          },
          "metadata": {},
          "execution_count": 10
        }
      ]
    },
    {
      "cell_type": "markdown",
      "source": [
        "### Reverse In Parentheses\n",
        "\n",
        "Write a function that reverses characters in (possibly nested) parentheses in the input string.\n",
        "\n",
        "Input strings will always be well-formed with matching ()s.\n",
        "\n",
        "Example\n",
        "\n",
        "For inputString = \"(bar)\", the output should be\n",
        "solution(inputString) = \"rab\";\n",
        "For inputString = \"foo(bar)baz\", the output should be\n",
        "solution(inputString) = \"foorabbaz\";\n",
        "For inputString = \"foo(bar)baz(blim)\", the output should be\n",
        "solution(inputString) = \"foorabbazmilb\";\n",
        "For inputString = \"foo(bar(baz))blim\", the output should be\n",
        "solution(inputString) = \"foobazrabblim\".\n",
        "Because \"foo(bar(baz))blim\" becomes \"foo(barzab)blim\" and then \"foobazrabblim\"."
      ],
      "metadata": {
        "id": "UoU1v570H0Tt"
      }
    },
    {
      "cell_type": "code",
      "source": [
        "def solution(inputString):\n",
        "    # Create an empty stack to store the indices of opening brackets\n",
        "    stack = []\n",
        "    # Create a list to store the characters of the string\n",
        "    chars = list(inputString)\n",
        "    \n",
        "    # Loop through each character in the string\n",
        "    for i, char in enumerate(chars):\n",
        "        # If we find an opening bracket, push its index onto the stack\n",
        "        if char == '(':\n",
        "            stack.append(i)\n",
        "        # If we find a closing bracket, reverse the characters between the\n",
        "        # opening and closing brackets\n",
        "        elif char == ')':\n",
        "            # Pop the last index from the stack, which will be the index of\n",
        "            # the matching opening bracket\n",
        "            start = stack.pop()\n",
        "            # Reverse the characters between the opening and closing brackets\n",
        "            chars[start:i] = chars[start:i][::-1]\n",
        "    \n",
        "    # Remove any remaining brackets from the list of characters\n",
        "    chars = [char for char in chars if char not in ['(', ')']]\n",
        "    \n",
        "    # Convert the list of characters back into a string and return it\n",
        "    return ''.join(chars)\n",
        "\n",
        "\n",
        "inputString = \"un (Gilipollas)\"\n",
        "\n",
        "solution(inputString)"
      ],
      "metadata": {
        "colab": {
          "base_uri": "https://localhost:8080/",
          "height": 36
        },
        "id": "WGWnfsxkH0zk",
        "outputId": "3dec6de0-5e06-4091-d633-d3b09407fb4f"
      },
      "execution_count": 11,
      "outputs": [
        {
          "output_type": "execute_result",
          "data": {
            "text/plain": [
              "'un sallopiliG'"
            ],
            "application/vnd.google.colaboratory.intrinsic+json": {
              "type": "string"
            }
          },
          "metadata": {},
          "execution_count": 11
        }
      ]
    },
    {
      "cell_type": "markdown",
      "source": [
        "## Exploring the Waters"
      ],
      "metadata": {
        "id": "OZTcnplnMXwM"
      }
    },
    {
      "cell_type": "markdown",
      "source": [
        "### Alternating sums\n",
        "\n",
        "Several people are standing in a row and need to be divided into two teams. The first person goes into team 1, the second goes into team 2, the third goes into team 1 again, the fourth into team 2, and so on.\n",
        "\n",
        "You are given an array of positive integers - the weights of the people. Return an array of two integers, where the first element is the total weight of team 1, and the second element is the total weight of team 2 after the division is complete.\n",
        "\n",
        "Example\n",
        "\n",
        "For a = [50, 60, 60, 45, 70], the output should be\n",
        "solution(a) = [180, 105]."
      ],
      "metadata": {
        "id": "lp0KXOP8IPgo"
      }
    },
    {
      "cell_type": "code",
      "source": [
        "def solution(a):\n",
        "    # Initialize the sums for each team to zero\n",
        "    team1_sum = 0\n",
        "    team2_sum = 0\n",
        "    \n",
        "    # Iterate over the weights in the array and add them to the appropriate team\n",
        "    for i, weight in enumerate(a):\n",
        "        # If i is odd, add the weight to team 2\n",
        "        #The % operator returns the remainder of the division between two numbers. If i is divided by 2 and the remainder is 1, that means i is an odd number\n",
        "        if i % 2 == 1:\n",
        "            team2_sum += weight\n",
        "        # Otherwise, add the weight to team 1\n",
        "        else:\n",
        "            team1_sum += weight\n",
        "    \n",
        "    # Return the sums for both teams as an array\n",
        "    return [team1_sum, team2_sum]\n",
        "\n",
        "\n",
        "a = [50, 60, 60, 45, 70]\n",
        "solution(a)"
      ],
      "metadata": {
        "colab": {
          "base_uri": "https://localhost:8080/"
        },
        "id": "F3SDJAdtIPzK",
        "outputId": "df6084fc-d257-447c-b8e2-c60fe88a280d"
      },
      "execution_count": 12,
      "outputs": [
        {
          "output_type": "execute_result",
          "data": {
            "text/plain": [
              "[180, 105]"
            ]
          },
          "metadata": {},
          "execution_count": 12
        }
      ]
    },
    {
      "cell_type": "markdown",
      "source": [
        "### Add Border\n",
        "\n",
        "Given a rectangular matrix of characters, add a border of asterisks(*) to it.\n",
        "\n",
        "Example\n",
        "\n",
        "For\n",
        "\n",
        "picture = [\"abc\",\n",
        "           \"ded\"]\n",
        "the output should be\n",
        "\n",
        "solution(picture) = [\"*****\",\n",
        "                     \"*abc*\",\n",
        "                     \"*ded*\",\n",
        "                     \"*****\"]"
      ],
      "metadata": {
        "id": "EWeZEeTuI0YY"
      }
    },
    {
      "cell_type": "code",
      "source": [
        "def solution(picture):\n",
        "    # Step 1: Add asterisks to the beginning and end of each string\n",
        "    picture = ['*' + row + '*' for row in picture]\n",
        "    \n",
        "    # Step 2: Add a new string of asterisks to the beginning and end of the matrix\n",
        "    width = len(picture[0])\n",
        "    border = '*' * width\n",
        "    picture.insert(0, border)\n",
        "    picture.append(border)\n",
        "    \n",
        "    return picture\n",
        "\n",
        "\n",
        "picture = [\"abc\", \"ded\"]\n",
        "solution(picture)"
      ],
      "metadata": {
        "colab": {
          "base_uri": "https://localhost:8080/"
        },
        "id": "WyhQBzKXI0pa",
        "outputId": "07ea0841-49af-4078-a58a-d418e076bef1"
      },
      "execution_count": 13,
      "outputs": [
        {
          "output_type": "execute_result",
          "data": {
            "text/plain": [
              "['*****', '*abc*', '*ded*', '*****']"
            ]
          },
          "metadata": {},
          "execution_count": 13
        }
      ]
    },
    {
      "cell_type": "markdown",
      "source": [
        "### Are similar?\n",
        "\n",
        "Two arrays are called similar if one can be obtained from another by swapping at most one pair of elements in one of the arrays.\n",
        "\n",
        "Given two arrays a and b, check whether they are similar.\n",
        "\n",
        "Example\n",
        "\n",
        "For a = [1, 2, 3] and b = [1, 2, 3], the output should be\n",
        "solution(a, b) = true.\n",
        "\n",
        "The arrays are equal, no need to swap any elements.\n",
        "\n",
        "For a = [1, 2, 3] and b = [2, 1, 3], the output should be\n",
        "solution(a, b) = true.\n",
        "\n",
        "We can obtain b from a by swapping 2 and 1 in b.\n",
        "\n",
        "For a = [1, 2, 2] and b = [2, 1, 1], the output should be\n",
        "solution(a, b) = false.\n",
        "\n",
        "Any swap of any two elements either in a or in b won't make a and b equal."
      ],
      "metadata": {
        "id": "ovotYd7UJCaX"
      }
    },
    {
      "cell_type": "code",
      "source": [
        "def solution(a, b):\n",
        "    # Check if both arrays have the same elements\n",
        "    if sorted(a) != sorted(b):\n",
        "        return False\n",
        "    \n",
        "    # Check if there are more than 2 different elements in the arrays\n",
        "    if sum([1 for i in range(len(a)) if a[i] != b[i]]) > 2:\n",
        "        return False\n",
        "    \n",
        "    return True\n",
        "\n",
        "a = [1, 2, 2]\n",
        "b = [2, 1, 1]\n",
        "solution(a, b)"
      ],
      "metadata": {
        "colab": {
          "base_uri": "https://localhost:8080/"
        },
        "id": "rdXABYGFJCuI",
        "outputId": "edb30b90-71dc-41bb-cf22-e8b732a4856a"
      },
      "execution_count": 14,
      "outputs": [
        {
          "output_type": "execute_result",
          "data": {
            "text/plain": [
              "False"
            ]
          },
          "metadata": {},
          "execution_count": 14
        }
      ]
    },
    {
      "cell_type": "markdown",
      "source": [
        "### Array Change\n",
        "\n",
        "You are given an array of integers. On each move you are allowed to increase exactly one of its element by one. Find the minimal number of moves required to obtain a strictly increasing sequence from the input.\n",
        "\n",
        "Example\n",
        "\n",
        "For inputArray = [1, 1, 1], the output should be\n",
        "solution(inputArray) = 3."
      ],
      "metadata": {
        "id": "AbA1ix1CJTuW"
      }
    },
    {
      "cell_type": "code",
      "source": [
        "def solution(inputArray):\n",
        "    # Initialize the running total and the previous element\n",
        "    total_moves = 0\n",
        "    prev_element = inputArray[0]\n",
        "\n",
        "    # Loop through the array starting from the second element\n",
        "    for i in range(1, len(inputArray)):\n",
        "        # Check if the current element is less than or equal to the previous element\n",
        "        if inputArray[i] <= prev_element:\n",
        "            # Calculate the number of moves required to make the current element strictly increasing\n",
        "            moves = prev_element - inputArray[i] + 1\n",
        "            total_moves += moves\n",
        "\n",
        "            # Update the current element to be strictly increasing\n",
        "            inputArray[i] += moves\n",
        "\n",
        "        # Update the previous element\n",
        "        prev_element = inputArray[i]\n",
        "\n",
        "    # Return the total number of moves required\n",
        "    return total_moves\n",
        "\n",
        "\n",
        "inputArray = [1, 1, 1]\n",
        "solution(inputArray)"
      ],
      "metadata": {
        "colab": {
          "base_uri": "https://localhost:8080/"
        },
        "id": "yRrw96fQJT-W",
        "outputId": "3dfbd1dd-603c-4380-aaf5-3918050c0847"
      },
      "execution_count": 15,
      "outputs": [
        {
          "output_type": "execute_result",
          "data": {
            "text/plain": [
              "3"
            ]
          },
          "metadata": {},
          "execution_count": 15
        }
      ]
    },
    {
      "cell_type": "markdown",
      "source": [
        "### Palindrome Rearrenging\n",
        "\n",
        "Given a string, find out if its characters can be rearranged to form a palindrome.\n",
        "\n",
        "Example\n",
        "\n",
        "For inputString = \"aabb\", the output should be\n",
        "solution(inputString) = true.\n",
        "\n",
        "We can rearrange \"aabb\" to make \"abba\", which is a palindrome."
      ],
      "metadata": {
        "id": "ZOH2soUQJgqG"
      }
    },
    {
      "cell_type": "code",
      "source": [
        "# A string can be rearranged into a palindrome if it has at most one character with an odd count.\n",
        "def solution(inputString):\n",
        "    # First, let's count the frequency of each character in the string\n",
        "    char_freq = {}\n",
        "    for char in inputString:\n",
        "        if char in char_freq:\n",
        "            char_freq[char] += 1\n",
        "        else:\n",
        "            char_freq[char] = 1\n",
        "            \n",
        "    # Now we can count how many characters have an odd frequency\n",
        "    odd_count = 0\n",
        "    for freq in char_freq.values():\n",
        "        if freq % 2 == 1:\n",
        "            odd_count += 1\n",
        "            # If there are more than one character with an odd frequency, \n",
        "            # we can't form a palindrome\n",
        "            if odd_count > 1:\n",
        "                return False\n",
        "    \n",
        "    # If we made it this far, we can form a palindrome\n",
        "    return True\n",
        "\n",
        "inputString = \"aabb\"\n",
        "solution(inputString)"
      ],
      "metadata": {
        "colab": {
          "base_uri": "https://localhost:8080/"
        },
        "id": "Itr6UkeDJg_-",
        "outputId": "81d6a239-5b24-4d05-867b-55a8718fb47a"
      },
      "execution_count": 16,
      "outputs": [
        {
          "output_type": "execute_result",
          "data": {
            "text/plain": [
              "True"
            ]
          },
          "metadata": {},
          "execution_count": 16
        }
      ]
    },
    {
      "cell_type": "markdown",
      "source": [
        "## Island of Knowledge"
      ],
      "metadata": {
        "id": "0IFpgTuEMQAK"
      }
    },
    {
      "cell_type": "markdown",
      "source": [
        "### Are equally strong\n",
        "\n",
        "Call two arms equally strong if the heaviest weights they each are able to lift are equal.\n",
        "\n",
        "Call two people equally strong if their strongest arms are equally strong (the strongest arm can be both the right and the left), and so are their weakest arms.\n",
        "\n",
        "Given your and your friend's arms' lifting capabilities find out if you two are equally strong.\n",
        "\n",
        "Example\n",
        "\n",
        "For yourLeft = 10, yourRight = 15, friendsLeft = 15, and friendsRight = 10, the output should be\n",
        "solution(yourLeft, yourRight, friendsLeft, friendsRight) = true;\n",
        "For yourLeft = 15, yourRight = 10, friendsLeft = 15, and friendsRight = 10, the output should be\n",
        "solution(yourLeft, yourRight, friendsLeft, friendsRight) = true;\n",
        "For yourLeft = 15, yourRight = 10, friendsLeft = 15, and friendsRight = 9, the output should be\n",
        "solution(yourLeft, yourRight, friendsLeft, friendsRight) = false."
      ],
      "metadata": {
        "id": "CVKcj32zJxkz"
      }
    },
    {
      "cell_type": "code",
      "source": [
        "def solution(your_left: int, your_right: int, friend_left: int, friend_right: int) -> bool:\n",
        "    # Check if your left arm strength matches either your friend's left or right arm strength, and if your right arm strength matches either your friend's left or right arm strength\n",
        "    return (your_left == friend_left or your_left == friend_right) and \\\n",
        "           (your_right == friend_left or your_right == friend_right)\n",
        "\n",
        "\n",
        "your_left = 10\n",
        "your_right = 15\n",
        "friend_left = 15\n",
        "friend_right = 10\n",
        "solution(your_left, your_right, friend_left, friend_right)"
      ],
      "metadata": {
        "colab": {
          "base_uri": "https://localhost:8080/"
        },
        "id": "xuct6A_DJ48t",
        "outputId": "74a7ac60-0158-4c4d-ae27-abab171a79b9"
      },
      "execution_count": 17,
      "outputs": [
        {
          "output_type": "execute_result",
          "data": {
            "text/plain": [
              "True"
            ]
          },
          "metadata": {},
          "execution_count": 17
        }
      ]
    },
    {
      "cell_type": "markdown",
      "source": [
        "### Array Maximal Adjacent Difference\n",
        "\n",
        "Given an array of integers, find the maximal absolute difference between any two of its adjacent elements.\n",
        "\n",
        "Example\n",
        "\n",
        "For inputArray = [2, 4, 1, 0], the output should be\n",
        "solution(inputArray) = 3."
      ],
      "metadata": {
        "id": "IxNZu4rIKY_X"
      }
    },
    {
      "cell_type": "code",
      "source": [
        "def solution(inputArray):\n",
        "    # Compute the absolute differences between adjacent elements of inputArray using a list comprehension\n",
        "    absolute_diffs = [abs(inputArray[i] - inputArray[i+1]) for i in range(len(inputArray)-1)]\n",
        "    \n",
        "    # Find the maximum value of the absolute differences and return it\n",
        "    return max(absolute_diffs)\n",
        "\n",
        "inputArray = [2, 4, 1, 0]\n",
        "solution(inputArray)"
      ],
      "metadata": {
        "colab": {
          "base_uri": "https://localhost:8080/"
        },
        "id": "Lot5MojiKZTc",
        "outputId": "8a3b8626-1462-4a12-9f94-b851998d8a4c"
      },
      "execution_count": 18,
      "outputs": [
        {
          "output_type": "execute_result",
          "data": {
            "text/plain": [
              "3"
            ]
          },
          "metadata": {},
          "execution_count": 18
        }
      ]
    },
    {
      "cell_type": "markdown",
      "source": [
        "### Is IPv4 Adress\n",
        "\n",
        "An IP address is a numerical label assigned to each device (e.g., computer, printer) participating in a computer network that uses the Internet Protocol for communication. There are two versions of the Internet protocol, and thus two versions of addresses. One of them is the IPv4 address.\n",
        "\n",
        "Given a string, find out if it satisfies the IPv4 address naming rules.\n",
        "\n",
        "Example\n",
        "\n",
        "For inputString = \"172.16.254.1\", the output should be\n",
        "solution(inputString) = true;\n",
        "\n",
        "For inputString = \"172.316.254.1\", the output should be\n",
        "solution(inputString) = false.\n",
        "\n",
        "316 is not in range [0, 255].\n",
        "\n",
        "For inputString = \".254.255.0\", the output should be\n",
        "solution(inputString) = false.\n",
        "\n",
        "There is no first number."
      ],
      "metadata": {
        "id": "gLyAze-EKnbG"
      }
    },
    {
      "cell_type": "code",
      "source": [
        "import re\n",
        "\n",
        "def solution(inputString: str) -> bool:\n",
        "    # Define the regular expression pattern for IPv4 addresses\n",
        "    pattern = r\"^((\\d|[1-9]\\d|1\\d{2}|2[0-4]\\d|25[0-5])\\.){3}(\\d|[1-9]\\d|1\\d{2}|2[0-4]\\d|25[0-5])$\"\n",
        "    # Check if the input string matches the pattern\n",
        "    if re.match(pattern, inputString):\n",
        "        return True\n",
        "    else:\n",
        "        return False\n",
        "        \n",
        "\n",
        "inputString = \".254.255.0\"\n",
        "solution(inputString)\n",
        "\n",
        " #The regular expression pattern r\"^((\\d|[1-9]\\d|1\\d{2}|2[0-4]\\d|25[0-5])\\.){3}(\\d|[1-9]\\d|1\\d{2}|2[0-4]\\d|25[0-5])$\" matches strings that:\n",
        "\n",
        "#start with a group of four numbers separated by dots\n",
        "#each number can be a single digit (\\d), or a two-digit number that does not start with zero ([1-9]\\d), or a three-digit number that starts with one (1\\d{2}), or a three-digit number that starts with two and has a second digit between 0 and 4 (2[0-4]\\d), or a three-digit number that starts with 25 and has a third digit between 0 and 5 (25[0-5])\n",
        "#the group of four numbers is followed by the end of the string ($)\n",
        "#If the input string matches the pattern, the function returns True, otherwise it returns False."
      ],
      "metadata": {
        "colab": {
          "base_uri": "https://localhost:8080/"
        },
        "id": "IFhB_C1PKn20",
        "outputId": "ed58492d-83ff-42b6-f1a1-030342564dfb"
      },
      "execution_count": 19,
      "outputs": [
        {
          "output_type": "execute_result",
          "data": {
            "text/plain": [
              "False"
            ]
          },
          "metadata": {},
          "execution_count": 19
        }
      ]
    },
    {
      "cell_type": "markdown",
      "source": [
        "### Avoid Obstacles\n",
        "\n",
        "You are given an array of integers representing coordinates of obstacles situated on a straight line.\n",
        "\n",
        "Assume that you are jumping from the point with coordinate 0 to the right. You are allowed only to make jumps of the same length represented by some integer.\n",
        "\n",
        "Find the minimal length of the jump enough to avoid all the obstacles.\n",
        "\n",
        "Example\n",
        "\n",
        "For inputArray = [5, 3, 6, 7, 9], the output should be\n",
        "solution(inputArray) = 4."
      ],
      "metadata": {
        "id": "YDGh3HRMLCQu"
      }
    },
    {
      "cell_type": "code",
      "source": [
        "def solution(inputArray):\n",
        "    # Find the maximum obstacle coordinate\n",
        "    max_obstacle = max(inputArray)\n",
        "\n",
        "    # Start with a jump length of 1 and increment until the jump clears all obstacles\n",
        "    jump = 1\n",
        "    while True:\n",
        "        # Check if the jump clears all obstacles\n",
        "        if all((coord % jump) != 0 for coord in inputArray):\n",
        "            return jump\n",
        "        # Increment jump length and try again\n",
        "        jump += 1\n",
        "        \n",
        "inputArray = [5, 3, 6, 7, 9]\n",
        "solution(inputArray)     \n",
        "  \n"
      ],
      "metadata": {
        "colab": {
          "base_uri": "https://localhost:8080/"
        },
        "id": "tZ_PRLiWLCjo",
        "outputId": "41fd131c-6dfe-465a-a261-80bafd54e076"
      },
      "execution_count": 20,
      "outputs": [
        {
          "output_type": "execute_result",
          "data": {
            "text/plain": [
              "4"
            ]
          },
          "metadata": {},
          "execution_count": 20
        }
      ]
    },
    {
      "cell_type": "markdown",
      "source": [
        "This solution first finds the maximum coordinate of the obstacles in the input array. It then starts with a jump length of 1 and increments it until a jump of that length clears all obstacles. It does this by checking if the remainder of the obstacle coordinates divided by the jump length is not equal to 0 for all obstacles. Once a jump length is found that clears all obstacles, it is returned as the minimal length of the jump."
      ],
      "metadata": {
        "id": "8UBdMoAhLKRs"
      }
    },
    {
      "cell_type": "markdown",
      "source": [
        "### Box Blur\n",
        "\n",
        "Last night you partied a little too hard. Now there's a black and white photo of you that's about to go viral! You can't let this ruin your reputation, so you want to apply the box blur algorithm to the photo to hide its content.\n",
        "\n",
        "The pixels in the input image are represented as integers. The algorithm distorts the input image in the following way: Every pixel x in the output image has a value equal to the average value of the pixel values from the 3 × 3 square that has its center at x, including x itself. All the pixels on the border of x are then removed.\n",
        "\n",
        "Return the blurred image as an integer, with the fractions rounded down.\n",
        "\n",
        "Example\n",
        "\n",
        "For\n",
        "\n",
        "image = [[1, 1, 1], \n",
        "         [1, 7, 1], \n",
        "         [1, 1, 1]]\n",
        "the output should be solution(image) = [[1]]."
      ],
      "metadata": {
        "id": "HhA1CB2KLLY0"
      }
    },
    {
      "cell_type": "code",
      "source": [
        "def solution(image):\n",
        "    # Initialize the resulting image as a list of empty lists with the same dimensions as the input image\n",
        "    result = [[0 for _ in range(len(image[0]) - 2)] for _ in range(len(image) - 2)]\n",
        "    \n",
        "    # Loop through the pixels of the resulting image\n",
        "    for i in range(len(result)):\n",
        "        for j in range(len(result[0])):\n",
        "            # Calculate the sum of the pixel values in the 3x3 square centered at the current pixel\n",
        "            total = 0\n",
        "            for m in range(i, i+3):\n",
        "                for n in range(j, j+3):\n",
        "                    total += image[m][n]\n",
        "            \n",
        "            # Calculate the average value of the pixels in the 3x3 square\n",
        "            average = total // 9\n",
        "            \n",
        "            # Set the current pixel in the resulting image to the average value\n",
        "            result[i][j] = average\n",
        "    \n",
        "    return result\n",
        "\n",
        "image = [[1, 1, 1], [1, 7, 1], [1, 1, 1]]\n",
        "solution(image)\n",
        "# The function takes in a 2D list image representing the input image, and returns a 2D list representing the blurred image.\n",
        "\n",
        "#The function first initializes the resulting image as a list of empty lists with the same dimensions as the input image minus 2, since the border pixels will be removed.\n",
        "\n",
        "#The function then loops through the pixels of the resulting image using two nested loops,\n",
        "# and calculates the sum of the pixel values in the 3x3 square centered at the current pixel using another two nested loops.\n",
        "\n",
        "#The function then calculates the average value of the pixels in the 3x3 square by dividing the total sum by 9 using integer division,\n",
        "# and sets the current pixel in the resulting image to the average value.\n"
      ],
      "metadata": {
        "colab": {
          "base_uri": "https://localhost:8080/"
        },
        "id": "gmX08X8NLL6g",
        "outputId": "08135d31-8c13-44bb-b97c-2418e479ba73"
      },
      "execution_count": 21,
      "outputs": [
        {
          "output_type": "execute_result",
          "data": {
            "text/plain": [
              "[[1]]"
            ]
          },
          "metadata": {},
          "execution_count": 21
        }
      ]
    },
    {
      "cell_type": "markdown",
      "source": [
        "### Minesweeper\n",
        "\n",
        "In the popular Minesweeper game you have a board with some mines and those cells that don't contain a mine have a number in it that indicates the total number of mines in the neighboring cells. Starting off with some arrangement of mines we want to create a Minesweeper game setup.\n",
        "\n",
        "Example\n",
        "\n",
        "For\n",
        "\n",
        "matrix = [[true, false, false],\n",
        "          [false, true, false],\n",
        "          [false, false, false]]\n",
        "the output should be\n",
        "\n",
        "solution(matrix) = [[1, 2, 1],\n",
        "                    [2, 1, 1],\n",
        "                    [1, 1, 1]]"
      ],
      "metadata": {
        "id": "--iYQ9QtLq4m"
      }
    },
    {
      "cell_type": "code",
      "source": [
        "def solution(matrix):\n",
        "    # Get the number of rows and columns in the matrix\n",
        "    rows, cols = len(matrix), len(matrix[0])\n",
        "    # Create a result matrix of the same size filled with zeros\n",
        "    result = [[0 for _ in range(cols)] for _ in range(rows)]\n",
        "\n",
        "    # Iterate through each cell in the matrix\n",
        "    for i in range(rows):\n",
        "        for j in range(cols):\n",
        "            # If the current cell contains a mine, increment the count of its neighbors by 1\n",
        "            if matrix[i][j]:\n",
        "                for r in range(max(i - 1, 0), min(i + 2, rows)):\n",
        "                    for c in range(max(j - 1, 0), min(j + 2, cols)):\n",
        "                        result[r][c] += 1\n",
        "                        \n",
        "    # Iterate through each cell in the matrix again\n",
        "    for i in range(rows):\n",
        "        for j in range(cols):\n",
        "            # If the current cell contains a mine, subtract 1 from its count\n",
        "            if matrix[i][j]:\n",
        "                result[i][j] -= 1\n",
        "                \n",
        "    # Return the resulting matrix\n",
        "    return result\n",
        "\n",
        "matrix = [[1, 0, 0], [0, 1, 0], [0, 0, 0]]\n",
        "solution(matrix)"
      ],
      "metadata": {
        "colab": {
          "base_uri": "https://localhost:8080/"
        },
        "id": "ti5esJZhLrRE",
        "outputId": "f900cecf-939e-4005-d745-2293b660d905"
      },
      "execution_count": 22,
      "outputs": [
        {
          "output_type": "execute_result",
          "data": {
            "text/plain": [
              "[[1, 2, 1], [2, 1, 1], [1, 1, 1]]"
            ]
          },
          "metadata": {},
          "execution_count": 22
        }
      ]
    }
  ]
}