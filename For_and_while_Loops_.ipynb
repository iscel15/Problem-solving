{
  "nbformat": 4,
  "nbformat_minor": 0,
  "metadata": {
    "colab": {
      "provenance": [],
      "authorship_tag": "ABX9TyOmt7L7gxd5Rid6EX/xF3Gm",
      "include_colab_link": true
    },
    "kernelspec": {
      "name": "python3",
      "display_name": "Python 3"
    },
    "language_info": {
      "name": "python"
    }
  },
  "cells": [
    {
      "cell_type": "markdown",
      "metadata": {
        "id": "view-in-github",
        "colab_type": "text"
      },
      "source": [
        "<a href=\"https://colab.research.google.com/github/iscel15/Problem-solving/blob/main/For_and_while_Loops_.ipynb\" target=\"_parent\"><img src=\"https://colab.research.google.com/assets/colab-badge.svg\" alt=\"Open In Colab\"/></a>"
      ]
    },
    {
      "cell_type": "markdown",
      "source": [
        "### Given a number x, the task is to print the numbers from x to 0 in decreasing order in a single line."
      ],
      "metadata": {
        "id": "j82kbjO90KQ8"
      }
    },
    {
      "cell_type": "code",
      "execution_count": 1,
      "metadata": {
        "colab": {
          "base_uri": "https://localhost:8080/"
        },
        "id": "5cz7x8kIzTli",
        "outputId": "d3a7f072-b883-41bb-96ef-17c48f0adca0"
      },
      "outputs": [
        {
          "output_type": "stream",
          "name": "stdout",
          "text": [
            "10 9 8 7 6 5 4 3 2 1 0 "
          ]
        }
      ],
      "source": [
        "def utility(x):\n",
        "\n",
        "    while(x >= 0):\n",
        "        \n",
        "      print(x,end=\" \")\n",
        "       \n",
        "      x -= 1\n",
        "#Test\n",
        "utility(10)"
      ]
    },
    {
      "cell_type": "markdown",
      "source": [
        "## Table Differences \n",
        "\n",
        "### Given two number n1 and n2, n1 > n2. Find the differences between mathematical tables of n1 and n2."
      ],
      "metadata": {
        "id": "w8wQ8ViP3XGu"
      }
    },
    {
      "cell_type": "code",
      "source": [
        "def difference(n1,n2):\n",
        "    \n",
        "   \n",
        "    for i in range(1 , 11):\n",
        "        print(i*(n1-n2) ,end=' ')\n",
        "#Test\n",
        "difference(7,3)"
      ],
      "metadata": {
        "colab": {
          "base_uri": "https://localhost:8080/"
        },
        "id": "8et0rZfc0Ucy",
        "outputId": "38db6914-0db6-4875-cd20-5401b425eb69"
      },
      "execution_count": 2,
      "outputs": [
        {
          "output_type": "stream",
          "name": "stdout",
          "text": [
            "4 8 12 16 20 24 28 32 36 40 "
          ]
        }
      ]
    },
    {
      "cell_type": "markdown",
      "source": [
        "## Print square\n",
        "\n",
        "### Given an integer S, write a program to print the square of size S using * character. "
      ],
      "metadata": {
        "id": "vUDR1wZH4K1E"
      }
    },
    {
      "cell_type": "code",
      "source": [
        "def square(s):\n",
        "   \n",
        "    for i in range(s):\n",
        "        if i == 0 or i == s-1:\n",
        "            print(\"* \" * s)\n",
        "        else:\n",
        "            print(\"* \" + \"  \"*(s-2) + \"* \")\n",
        "#Test\n",
        "square(5)"
      ],
      "metadata": {
        "colab": {
          "base_uri": "https://localhost:8080/"
        },
        "id": "sARxmaxu3r35",
        "outputId": "91ed777c-d4b2-4264-8c33-dffe14d49608"
      },
      "execution_count": 3,
      "outputs": [
        {
          "output_type": "stream",
          "name": "stdout",
          "text": [
            "* * * * * \n",
            "*       * \n",
            "*       * \n",
            "*       * \n",
            "* * * * * \n"
          ]
        }
      ]
    },
    {
      "cell_type": "markdown",
      "source": [
        "## Print Square wall\n",
        "\n",
        "### Given an integer s,  write a program to print the square wall of size s using single loops. Use * character to make the wall.\n",
        "\n",
        "Note: Use string multiplication for Python."
      ],
      "metadata": {
        "id": "Px3gi75L3ro1"
      }
    },
    {
      "cell_type": "code",
      "source": [
        "\n",
        "def squareWall(s):\n",
        "    \n",
        "    for i in range(s):\n",
        "        \n",
        "        print(\"* \"*s)\n",
        "#Test       \n",
        "squareWall(7)"
      ],
      "metadata": {
        "colab": {
          "base_uri": "https://localhost:8080/"
        },
        "id": "g3it930-7APC",
        "outputId": "e047e2ed-abf0-4685-9a85-fc24770504fd"
      },
      "execution_count": 4,
      "outputs": [
        {
          "output_type": "stream",
          "name": "stdout",
          "text": [
            "* * * * * * * \n",
            "* * * * * * * \n",
            "* * * * * * * \n",
            "* * * * * * * \n",
            "* * * * * * * \n",
            "* * * * * * * \n",
            "* * * * * * * \n"
          ]
        }
      ]
    },
    {
      "cell_type": "markdown",
      "source": [
        "### Print Square Wall 2\n",
        "\n",
        "\n",
        "The end parameter is used to specify what should be printed at the end of the line. By default, print() uses the newline character ('\\n') as the end character, which causes the cursor to move to a new line after printing the text.\n",
        "\n",
        "In our case, we want to print a space after each asterisk, without moving to a new line, so we set the end parameter to ' '. This tells print() to use a space character as the end character, instead of a newline character, which produces the desired output."
      ],
      "metadata": {
        "id": "znJ50A8iMkF7"
      }
    },
    {
      "cell_type": "code",
      "source": [
        "def squareWall(s):\n",
        "\n",
        "    for i in range(s):\n",
        "\n",
        "        for j in range(s):\n",
        "\n",
        "            print('*', end=' ')\n",
        "\n",
        "        print()\n",
        "        \n",
        "squareWall(4)\n"
      ],
      "metadata": {
        "colab": {
          "base_uri": "https://localhost:8080/"
        },
        "id": "J0scrmRmLDj3",
        "outputId": "df3beac7-d5c9-46ba-8fe4-52f156487faa"
      },
      "execution_count": 5,
      "outputs": [
        {
          "output_type": "stream",
          "name": "stdout",
          "text": [
            "* * * * \n",
            "* * * * \n",
            "* * * * \n",
            "* * * * \n"
          ]
        }
      ]
    },
    {
      "cell_type": "markdown",
      "source": [
        "\n",
        "## Right Angle Triangle\n",
        "### Given an integer s. Write a program to print the Right angle triangle wall. The length of perpendicular and base is s.  Use single loop and string multiplication."
      ],
      "metadata": {
        "id": "8N8J0uok8vd6"
      }
    },
    {
      "cell_type": "code",
      "source": [
        "def triangleWall(s):\n",
        "\n",
        "    for i in range(1,s+1):\n",
        "        \n",
        "        print(\"* \"*i)\n",
        "#Test\n",
        "triangleWall(5)"
      ],
      "metadata": {
        "colab": {
          "base_uri": "https://localhost:8080/"
        },
        "id": "Aactm7rB8utO",
        "outputId": "893a8ed7-f54c-4c6d-be6b-8bfaec3f6da8"
      },
      "execution_count": 6,
      "outputs": [
        {
          "output_type": "stream",
          "name": "stdout",
          "text": [
            "* \n",
            "* * \n",
            "* * * \n",
            "* * * * \n",
            "* * * * * \n"
          ]
        }
      ]
    },
    {
      "cell_type": "markdown",
      "source": [
        "## Inverted Right AngleTriangle\n",
        "\n",
        "\n",
        " ### Given an integer s. Write a program to print the Inverted \"Right angle triangle\" wall. The length of the perpendicular and base is s.  Use a single loop and string multiplication."
      ],
      "metadata": {
        "id": "tW4hbVSW9J37"
      }
    },
    {
      "cell_type": "code",
      "source": [
        "def invTriangleWall(s):\n",
        "    \n",
        "    for i in range(s):\n",
        "        print(\"* \"*(s-i))\n",
        "\n",
        "invTriangleWall(4)       "
      ],
      "metadata": {
        "colab": {
          "base_uri": "https://localhost:8080/"
        },
        "id": "5h18s_hx9Ie-",
        "outputId": "f0b34585-3b69-420a-b634-58de58125700"
      },
      "execution_count": 7,
      "outputs": [
        {
          "output_type": "stream",
          "name": "stdout",
          "text": [
            "* * * * \n",
            "* * * \n",
            "* * \n",
            "* \n"
          ]
        }
      ]
    },
    {
      "cell_type": "markdown",
      "source": [
        "## Inverted Right Angle Triangle 2\n",
        "\n",
        "### Given an integer s. Write a program to print the Inverted \"Right angle triangle\" wall. The length of the perpendicular and base is s. Use double loop."
      ],
      "metadata": {
        "id": "FZTPJ3QL_I4Y"
      }
    },
    {
      "cell_type": "code",
      "source": [
        "def invTriangleWall(s):\n",
        "     \n",
        "    for i in range(s,0,-1):\n",
        "\n",
        "        for j in range(i):\n",
        "            \n",
        "            print(\"* \", end=\"\")\n",
        "        print()\n",
        "#Test      \n",
        "invTriangleWall(4)"
      ],
      "metadata": {
        "colab": {
          "base_uri": "https://localhost:8080/"
        },
        "id": "zWs6TJge_Kcq",
        "outputId": "54d3f746-8807-4b6d-9f22-c254da54c4e9"
      },
      "execution_count": 8,
      "outputs": [
        {
          "output_type": "stream",
          "name": "stdout",
          "text": [
            "* * * * \n",
            "* * * \n",
            "* * \n",
            "* \n"
          ]
        }
      ]
    },
    {
      "cell_type": "markdown",
      "source": [
        "## Prime detector"
      ],
      "metadata": {
        "id": "BJnlD3v69WnN"
      }
    },
    {
      "cell_type": "code",
      "source": [
        "def prime(n):\n",
        "    if n <= 1:\n",
        "        # 1 is not a prime number\n",
        "        return False\n",
        "    elif n <= 3:\n",
        "        # 2 and 3 are prime numbers\n",
        "        return True\n",
        "    elif n % 2 == 0 or n % 3 == 0:\n",
        "        # numbers divisible by 2 or 3 are not prime\n",
        "        return False\n",
        "    i = 5\n",
        "    while i * i <= n:\n",
        "        if n % i == 0 or n % (i + 2) == 0:\n",
        "            # numbers divisible by i or i+2 are not prime\n",
        "            return False\n",
        "        i += 6\n",
        "    return True\n",
        "\n",
        "# The line below takes input. Don't change it!\n",
        "n = int(input())\n",
        "\n",
        "# Call the prime function and print the output\n",
        "if prime(n):\n",
        "    print(True)\n",
        "else:\n",
        "    print(False)\n"
      ],
      "metadata": {
        "id": "h6LNe92bLByJ",
        "colab": {
          "base_uri": "https://localhost:8080/"
        },
        "outputId": "9f2b46ea-9aad-4934-9d9d-caf6440875f6"
      },
      "execution_count": 9,
      "outputs": [
        {
          "output_type": "stream",
          "name": "stdout",
          "text": [
            "5\n",
            "True\n"
          ]
        }
      ]
    },
    {
      "cell_type": "code",
      "source": [
        "numbers = [10,20]\n",
        "items= [\"chair\",\"table\"]\n",
        "\n",
        "for x in numbers:\n",
        "  for y in items: \n",
        "    print(x,y)"
      ],
      "metadata": {
        "id": "T9CG4BTSP7wh",
        "colab": {
          "base_uri": "https://localhost:8080/"
        },
        "outputId": "8583af6d-9ca4-4130-9e6e-601e11bfb7a9"
      },
      "execution_count": 10,
      "outputs": [
        {
          "output_type": "stream",
          "name": "stdout",
          "text": [
            "10 chair\n",
            "10 table\n",
            "20 chair\n",
            "20 table\n"
          ]
        }
      ]
    },
    {
      "cell_type": "markdown",
      "source": [
        "### Nested Loop"
      ],
      "metadata": {
        "id": "XnO_qT5A9ui-"
      }
    },
    {
      "cell_type": "code",
      "source": [
        "var = 10\n",
        "for i in range(10):\n",
        "  for j in range(2,10,1):\n",
        "    if var%2==0:\n",
        "      continue\n",
        "      var+=1\n",
        "      var+=1\n",
        "    else:\n",
        "      var+=1\n",
        "print(var)"
      ],
      "metadata": {
        "id": "Shwh5tnKSbxa",
        "colab": {
          "base_uri": "https://localhost:8080/"
        },
        "outputId": "297b7aaf-2a63-497e-d9b3-78c67320a639"
      },
      "execution_count": 11,
      "outputs": [
        {
          "output_type": "stream",
          "name": "stdout",
          "text": [
            "10\n"
          ]
        }
      ]
    },
    {
      "cell_type": "markdown",
      "source": [
        "The result is 10 because the initial value of \"var\" is 10 and remains unchanged in the loop.\n",
        "\n",
        "Within the loop, for each value of \"i\" in the range of 0 to 9, another loop is executed for each value of \"j\" in the range of 2 to 9. In each iteration, it is checked whether the value of \"var\" is even or odd. If \"var\" is even, the \"continue\" statement is used to skip to the next value of \"j\" without executing the following two lines that increment \"var\" by 1. If \"var\" is odd, it is incremented by 1 before moving to the next iteration of the \"j\" loop.\n",
        "\n",
        "Since the initial value of \"var\" is even, the \"continue\" statement is executed in the first iteration of the \"j\" loop, so the following two lines that increment \"var\" by 1 are not executed. As a result, the value of \"var\" remains at 10 and is not modified in any iteration of the \"i\" loop. Finally, the value of \"var\" is printed after completing the \"i\" loop, resulting in 10."
      ],
      "metadata": {
        "id": "OqvO9uQbTGx7"
      }
    },
    {
      "cell_type": "markdown",
      "source": [
        "### Another nested loop"
      ],
      "metadata": {
        "id": "MhO446WuT7ic"
      }
    },
    {
      "cell_type": "code",
      "source": [
        "for num in range(10,14):\n",
        "  for i in range(2,num):\n",
        "    if num%i==1:\n",
        "      print(num)\n",
        "      break"
      ],
      "metadata": {
        "id": "jHI_n3gZTl4V",
        "colab": {
          "base_uri": "https://localhost:8080/"
        },
        "outputId": "6b658726-e642-491a-d33d-fd8ca1a5d219"
      },
      "execution_count": 12,
      "outputs": [
        {
          "output_type": "stream",
          "name": "stdout",
          "text": [
            "10\n",
            "11\n",
            "12\n",
            "13\n"
          ]
        }
      ]
    },
    {
      "cell_type": "markdown",
      "source": [
        "The program aims to print the numbers from 10 to 13 that are not divisible by any number between 2 and the number itself.\n",
        "\n",
        "The first part of the program is the outer loop, for num in range(10,14):, which iterates from the number 10 to the number 13.\n",
        "\n",
        "Then, in the inner loop, for i in range(2,num):, the program iterates over the integers from 2 to num-1, to check if the number num is divisible by any of these numbers.\n",
        "\n",
        "In the if condition, if num%i==1:, the program checks if the remainder of num divided by i is equal to 1. This condition is incorrect, as it should be if num%i==0: to check if num is divisible by i.\n",
        "\n",
        "When a number i is found that divides num exactly, the program prints num with print(num) and breaks the inner loop with break.\n",
        "\n",
        "Therefore, the expected output of the program should be to print the numbers 11, 12, and 13, as the number 10 is divisible by 2 and does not meet the condition of being a number not divisible by any number between 2 and the number itself."
      ],
      "metadata": {
        "id": "5-ooPc7nUiVF"
      }
    }
  ]
}