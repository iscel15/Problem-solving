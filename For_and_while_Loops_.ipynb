{
  "nbformat": 4,
  "nbformat_minor": 0,
  "metadata": {
    "colab": {
      "provenance": [],
      "authorship_tag": "ABX9TyPGsFENJYQK/Lad755e9wGO",
      "include_colab_link": true
    },
    "kernelspec": {
      "name": "python3",
      "display_name": "Python 3"
    },
    "language_info": {
      "name": "python"
    }
  },
  "cells": [
    {
      "cell_type": "markdown",
      "metadata": {
        "id": "view-in-github",
        "colab_type": "text"
      },
      "source": [
        "<a href=\"https://colab.research.google.com/github/iscel15/Problem-solving/blob/main/For_and_while_Loops_.ipynb\" target=\"_parent\"><img src=\"https://colab.research.google.com/assets/colab-badge.svg\" alt=\"Open In Colab\"/></a>"
      ]
    },
    {
      "cell_type": "markdown",
      "source": [
        "### Given a number x, the task is to print the numbers from x to 0 in decreasing order in a single line."
      ],
      "metadata": {
        "id": "j82kbjO90KQ8"
      }
    },
    {
      "cell_type": "code",
      "execution_count": null,
      "metadata": {
        "colab": {
          "base_uri": "https://localhost:8080/"
        },
        "id": "5cz7x8kIzTli",
        "outputId": "08fde7d5-29d5-4c4e-aa3e-a844ecb8ff08"
      },
      "outputs": [
        {
          "output_type": "stream",
          "name": "stdout",
          "text": [
            "10 9 8 7 6 5 4 3 2 1 0 "
          ]
        }
      ],
      "source": [
        "def utility(x):\n",
        "\n",
        "    while(x >= 0):\n",
        "        \n",
        "      print(x,end=\" \")\n",
        "       \n",
        "      x -= 1\n",
        "#Test\n",
        "utility(10)"
      ]
    },
    {
      "cell_type": "markdown",
      "source": [
        "## Table Differences \n",
        "\n",
        "### Given two number n1 and n2, n1 > n2. Find the differences between mathematical tables of n1 and n2."
      ],
      "metadata": {
        "id": "w8wQ8ViP3XGu"
      }
    },
    {
      "cell_type": "code",
      "source": [
        "def difference(n1,n2):\n",
        "    \n",
        "   \n",
        "    for i in range(1 , 11):\n",
        "        print(i*(n1-n2) ,end=' ')\n",
        "#Test\n",
        "difference(7,3)"
      ],
      "metadata": {
        "colab": {
          "base_uri": "https://localhost:8080/"
        },
        "id": "8et0rZfc0Ucy",
        "outputId": "9ccb3779-4818-4c13-9f54-8a37c80d8d05"
      },
      "execution_count": null,
      "outputs": [
        {
          "output_type": "stream",
          "name": "stdout",
          "text": [
            "4 8 12 16 20 24 28 32 36 40 "
          ]
        }
      ]
    },
    {
      "cell_type": "markdown",
      "source": [
        "## Print square\n",
        "\n",
        "### Given an integer S, write a program to print the square of size S using * character. "
      ],
      "metadata": {
        "id": "vUDR1wZH4K1E"
      }
    },
    {
      "cell_type": "code",
      "source": [
        "def square(s):\n",
        "   \n",
        "    for i in range(s):\n",
        "        if i == 0 or i == s-1:\n",
        "            print(\"* \" * s)\n",
        "        else:\n",
        "            print(\"* \" + \"  \"*(s-2) + \"* \")\n",
        "#Test\n",
        "square(5)"
      ],
      "metadata": {
        "colab": {
          "base_uri": "https://localhost:8080/"
        },
        "id": "sARxmaxu3r35",
        "outputId": "63f2b991-2c52-45e7-98c8-6cbbe1474668"
      },
      "execution_count": null,
      "outputs": [
        {
          "output_type": "stream",
          "name": "stdout",
          "text": [
            "* * * * * \n",
            "*       * \n",
            "*       * \n",
            "*       * \n",
            "* * * * * \n"
          ]
        }
      ]
    },
    {
      "cell_type": "markdown",
      "source": [
        "## Print Square wall\n",
        "\n",
        "### Given an integer s,  write a program to print the square wall of size s using single loops. Use * character to make the wall.\n",
        "\n",
        "Note: Use string multiplication for Python."
      ],
      "metadata": {
        "id": "Px3gi75L3ro1"
      }
    },
    {
      "cell_type": "code",
      "source": [
        "\n",
        "def squareWall(s):\n",
        "    \n",
        "    for i in range(s):\n",
        "        \n",
        "        print(\"* \"*s)\n",
        "#Test       \n",
        "squareWall(7)"
      ],
      "metadata": {
        "colab": {
          "base_uri": "https://localhost:8080/"
        },
        "id": "g3it930-7APC",
        "outputId": "04ec7471-30fc-4ab5-dd76-976bc3715cd4"
      },
      "execution_count": null,
      "outputs": [
        {
          "output_type": "stream",
          "name": "stdout",
          "text": [
            "* * * * * * * \n",
            "* * * * * * * \n",
            "* * * * * * * \n",
            "* * * * * * * \n",
            "* * * * * * * \n",
            "* * * * * * * \n",
            "* * * * * * * \n"
          ]
        }
      ]
    },
    {
      "cell_type": "markdown",
      "source": [
        "### Print Square Wall 2\n",
        "\n",
        "\n",
        "The end parameter is used to specify what should be printed at the end of the line. By default, print() uses the newline character ('\\n') as the end character, which causes the cursor to move to a new line after printing the text.\n",
        "\n",
        "In our case, we want to print a space after each asterisk, without moving to a new line, so we set the end parameter to ' '. This tells print() to use a space character as the end character, instead of a newline character, which produces the desired output."
      ],
      "metadata": {
        "id": "znJ50A8iMkF7"
      }
    },
    {
      "cell_type": "code",
      "source": [
        "def squareWall(s):\n",
        "\n",
        "    for i in range(s):\n",
        "\n",
        "        for j in range(s):\n",
        "\n",
        "            print('*', end=' ')\n",
        "\n",
        "        print()\n",
        "        \n",
        "squareWall(4)\n"
      ],
      "metadata": {
        "colab": {
          "base_uri": "https://localhost:8080/"
        },
        "id": "J0scrmRmLDj3",
        "outputId": "afbadca1-dae0-48d1-a95c-c685c934343a"
      },
      "execution_count": null,
      "outputs": [
        {
          "output_type": "stream",
          "name": "stdout",
          "text": [
            "* * * * \n",
            "* * * * \n",
            "* * * * \n",
            "* * * * \n"
          ]
        }
      ]
    },
    {
      "cell_type": "markdown",
      "source": [
        "\n",
        "## Right Angle Triangle\n",
        "### Given an integer s. Write a program to print the Right angle triangle wall. The length of perpendicular and base is s.  Use single loop and string multiplication."
      ],
      "metadata": {
        "id": "8N8J0uok8vd6"
      }
    },
    {
      "cell_type": "code",
      "source": [
        "def triangleWall(s):\n",
        "\n",
        "    for i in range(1,s+1):\n",
        "        \n",
        "        print(\"* \"*i)\n",
        "#Test\n",
        "triangleWall(5)"
      ],
      "metadata": {
        "colab": {
          "base_uri": "https://localhost:8080/"
        },
        "id": "Aactm7rB8utO",
        "outputId": "d7003300-7aad-4932-d847-750ae619330f"
      },
      "execution_count": null,
      "outputs": [
        {
          "output_type": "stream",
          "name": "stdout",
          "text": [
            "* \n",
            "* * \n",
            "* * * \n",
            "* * * * \n",
            "* * * * * \n"
          ]
        }
      ]
    },
    {
      "cell_type": "markdown",
      "source": [
        "## Inverted Right AngleTriangle\n",
        "\n",
        "\n",
        " ### Given an integer s. Write a program to print the Inverted \"Right angle triangle\" wall. The length of the perpendicular and base is s.  Use a single loop and string multiplication."
      ],
      "metadata": {
        "id": "tW4hbVSW9J37"
      }
    },
    {
      "cell_type": "code",
      "source": [
        "def invTriangleWall(s):\n",
        "    \n",
        "    for i in range(s):\n",
        "        print(\"* \"*(s-i))\n",
        "\n",
        "invTriangleWall(4)       "
      ],
      "metadata": {
        "colab": {
          "base_uri": "https://localhost:8080/"
        },
        "id": "5h18s_hx9Ie-",
        "outputId": "c15b50a0-8c81-49c3-bade-cfc720b927c8"
      },
      "execution_count": null,
      "outputs": [
        {
          "output_type": "stream",
          "name": "stdout",
          "text": [
            "* * * * \n",
            "* * * \n",
            "* * \n",
            "* \n"
          ]
        }
      ]
    },
    {
      "cell_type": "markdown",
      "source": [
        "## Inverted Right Angle Triangle 2\n",
        "\n",
        "### Given an integer s. Write a program to print the Inverted \"Right angle triangle\" wall. The length of the perpendicular and base is s. Use double loop."
      ],
      "metadata": {
        "id": "FZTPJ3QL_I4Y"
      }
    },
    {
      "cell_type": "code",
      "source": [
        "def invTriangleWall(s):\n",
        "     \n",
        "    for i in range(s,0,-1):\n",
        "\n",
        "        for j in range(i):\n",
        "            \n",
        "            print(\"* \", end=\"\")\n",
        "        print()\n",
        "#Test      \n",
        "invTriangleWall(4)"
      ],
      "metadata": {
        "colab": {
          "base_uri": "https://localhost:8080/"
        },
        "id": "zWs6TJge_Kcq",
        "outputId": "e11e882d-0fdf-4080-ce50-59c6ab5e06a8"
      },
      "execution_count": null,
      "outputs": [
        {
          "output_type": "stream",
          "name": "stdout",
          "text": [
            "* * * * \n",
            "* * * \n",
            "* * \n",
            "* \n"
          ]
        }
      ]
    },
    {
      "cell_type": "markdown",
      "source": [],
      "metadata": {
        "id": "qvomrENfNvT8"
      }
    },
    {
      "cell_type": "code",
      "source": [
        "def prime(n):\n",
        "    if n <= 1:\n",
        "        # 1 is not a prime number\n",
        "        return False\n",
        "    elif n <= 3:\n",
        "        # 2 and 3 are prime numbers\n",
        "        return True\n",
        "    elif n % 2 == 0 or n % 3 == 0:\n",
        "        # numbers divisible by 2 or 3 are not prime\n",
        "        return False\n",
        "    i = 5\n",
        "    while i * i <= n:\n",
        "        if n % i == 0 or n % (i + 2) == 0:\n",
        "            # numbers divisible by i or i+2 are not prime\n",
        "            return False\n",
        "        i += 6\n",
        "    return True\n",
        "\n",
        "# The line below takes input. Don't change it!\n",
        "n = int(input())\n",
        "\n",
        "# Call the prime function and print the output\n",
        "if prime(n):\n",
        "    print(True)\n",
        "else:\n",
        "    print(False)\n",
        "\n",
        "\n",
        "#print(prime(5))"
      ],
      "metadata": {
        "id": "h6LNe92bLByJ"
      },
      "execution_count": null,
      "outputs": []
    },
    {
      "cell_type": "code",
      "source": [
        "numbers = [10,20]\n",
        "items= [\"chair\",\"table\"]\n",
        "\n",
        "for x in numbers:\n",
        "  for y in items: \n",
        "    print(x,y)"
      ],
      "metadata": {
        "id": "T9CG4BTSP7wh"
      },
      "execution_count": null,
      "outputs": []
    },
    {
      "cell_type": "markdown",
      "source": [
        "El segundo bucle for está dentro del anterior, por lo que asigna dos valores de \"y\" a cada valor de \"x\""
      ],
      "metadata": {
        "id": "xcAaiBavTU_K"
      }
    },
    {
      "cell_type": "markdown",
      "source": [
        "## Ejemplo de código con varios bucles"
      ],
      "metadata": {
        "id": "45IO1MI8TKF6"
      }
    },
    {
      "cell_type": "code",
      "source": [
        "var = 10\n",
        "for i in range(10):\n",
        "  for j in range(2,10,1):\n",
        "    if var%2==0:\n",
        "      continue\n",
        "      var+=1\n",
        "      var+=1\n",
        "    else:\n",
        "      var+=1\n",
        "print(var)"
      ],
      "metadata": {
        "id": "Shwh5tnKSbxa"
      },
      "execution_count": null,
      "outputs": []
    },
    {
      "cell_type": "markdown",
      "source": [
        "El resultado es 10 porque el valor inicial de \"var\" es 10 y no se modifica en el bucle.\n",
        "\n",
        "Dentro del bucle, para cada valor de \"i\" en el rango de 0 a 9, se ejecuta otro bucle para cada valor de \"j\" en el rango de 2 a 9. En cada iteración, se verifica si el valor de \"var\" es par o impar. Si \"var\" es par, se usa la declaración \"continue\" para saltar al siguiente valor de \"j\" sin ejecutar las siguientes dos líneas que incrementan \"var\" en 1. Si \"var\" es impar, se incrementa en 1 antes de pasar a la siguiente iteración del bucle \"j\".\n",
        "\n",
        "Como el valor inicial de \"var\" es par, la instrucción \"continue\" se ejecuta en la primera iteración del bucle \"j\", por lo que no se ejecutan las siguientes dos líneas que incrementan \"var\" en 1. Como resultado, el valor de \"var\" permanece en 10 y no se modifica en ninguna iteración del bucle \"i\". Finalmente, el valor de \"var\" se imprime después de completar el bucle \"i\", lo que da como resultado 10."
      ],
      "metadata": {
        "id": "OqvO9uQbTGx7"
      }
    },
    {
      "cell_type": "markdown",
      "source": [
        "### Another nested loop"
      ],
      "metadata": {
        "id": "MhO446WuT7ic"
      }
    },
    {
      "cell_type": "code",
      "source": [
        "for num in range(10,14):\n",
        "  for i in range(2,num):\n",
        "    if num%i==1:\n",
        "      print(num)\n",
        "      break"
      ],
      "metadata": {
        "id": "jHI_n3gZTl4V"
      },
      "execution_count": null,
      "outputs": []
    },
    {
      "cell_type": "markdown",
      "source": [
        "El programa consiste en imprimir los números del 10 al 13 que no sean divisibles por ningún número entre 2 y el número mismo.\n",
        "\n",
        "La primera parte del programa es el loop exterior, for num in range(10,14):, que itera desde el número 10 hasta el número 13.\n",
        "\n",
        "Luego, en el loop interior, for i in range(2,num):, se itera sobre los números enteros desde 2 hasta num-1, para verificar si el número num es divisible por alguno de estos números.\n",
        "\n",
        "En la condición del if, if num%i==1:, se verifica si el residuo de num dividido por i es igual a 1. Esta condición es incorrecta, ya que debería ser if num%i==0: para verificar si num es divisible por i.\n",
        "\n",
        "Cuando se encuentra un número i que divide exactamente a num, se imprime num con print(num) y se rompe el loop interior con break.\n",
        "\n",
        "Por lo tanto, el resultado esperado del programa debería ser imprimir los números 11, 12 y 13, ya que el número 10 es divisible por 2 y no cumple la condición de ser un número no divisible por ningún número entre 2 y el número mismo."
      ],
      "metadata": {
        "id": "5-ooPc7nUiVF"
      }
    }
  ]
}