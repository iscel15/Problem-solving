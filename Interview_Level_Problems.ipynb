{
  "nbformat": 4,
  "nbformat_minor": 0,
  "metadata": {
    "colab": {
      "provenance": [],
      "authorship_tag": "ABX9TyOH+qMK4m+yIROj1Q70T1ZG",
      "include_colab_link": true
    },
    "kernelspec": {
      "name": "python3",
      "display_name": "Python 3"
    },
    "language_info": {
      "name": "python"
    }
  },
  "cells": [
    {
      "cell_type": "markdown",
      "metadata": {
        "id": "view-in-github",
        "colab_type": "text"
      },
      "source": [
        "<a href=\"https://colab.research.google.com/github/iscel15/Problem-solving/blob/main/Interview_Level_Problems.ipynb\" target=\"_parent\"><img src=\"https://colab.research.google.com/assets/colab-badge.svg\" alt=\"Open In Colab\"/></a>"
      ]
    },
    {
      "cell_type": "markdown",
      "source": [
        "## 1. What is the average temporary complexity of the quicksort algorithm?\n",
        "\n",
        "The average temporary complexity of the Quicksort algorithm is O(log n) where n is the number of elements in the input array. This refers to the amount of extra space or memory needed by the algorithm to store temporary variables and perform recursive calls.\n",
        "\n",
        "The Quicksort algorithm uses a divide-and-conquer approach to sort an array. It chooses a pivot element and partitions the array into two sub-arrays, one with elements smaller than the pivot and another with elements larger than the pivot. It then recursively sorts these sub-arrays.\n",
        "\n",
        "During this process, the algorithm needs to keep track of the pivot element and the indices of the sub-arrays. This requires some temporary variables, which contribute to the temporary complexity of the algorithm.\n",
        "\n",
        "However, the amount of temporary space needed by Quicksort is relatively small compared to other sorting algorithms. This makes it a popular choice for sorting large datasets in memory-constrained environments."
      ],
      "metadata": {
        "id": "18hBm-l0lX8T"
      }
    },
    {
      "cell_type": "markdown",
      "source": [
        "## 2.  What method use to search a number in an organized array of numbers?\n",
        "\n",
        "\n",
        "One common method to search for a number in an organized (sorted) array of numbers is the binary search algorithm.\n",
        "\n",
        "Binary search works by repeatedly dividing the array in half and comparing the target value with the middle element of the sub-array. If the middle element is equal to the target value, the search is successful. If the target value is less than the middle element, the search continues on the left half of the sub-array, otherwise it continues on the right half. This process is repeated until the target value is found or the sub-array is empty.\n",
        "\n",
        "Binary search has a time complexity of O(log n), where n is the size of the array. This is much faster than linear search, which has a time complexity of O(n) in the worst case.\n",
        "\n",
        "Note that binary search only works on sorted arrays. If the array is not sorted, binary search cannot be used and other search algorithms, such as linear search or hash tables, may be more appropriate."
      ],
      "metadata": {
        "id": "EY81tF1nle6d"
      }
    },
    {
      "cell_type": "markdown",
      "source": [
        "## 3. What data structure is needed to  make a recursive procedure?\n",
        "\n",
        "\n",
        "To make a recursive procedure, a suitable data structure called a call stack is needed.\n",
        "\n",
        "When a recursive function is called, a new frame or activation record is added to the call stack. This frame contains information about the current state of the function, such as the values of its parameters and local variables. When the function calls itself recursively, additional frames are added to the call stack, each with its own set of values.\n",
        "\n",
        "As the recursion continues, the call stack grows in size, with newer frames being added on top of older ones. When a recursive call returns, its frame is removed from the top of the call stack, and the function continues executing from the previous frame.\n",
        "\n",
        "The call stack is a fundamental data structure for managing recursion in most programming languages. It is automatically created and managed by the runtime system, which ensures that the correct frames are pushed and popped from the stack as needed.\n",
        "\n",
        "Note that the size of the call stack is limited by the amount of memory available to the program, and recursive functions that make many nested calls may cause a stack overflow error if the stack size exceeds this limit."
      ],
      "metadata": {
        "id": "dDSXxuBXlfUc"
      }
    },
    {
      "cell_type": "markdown",
      "source": [
        "## 4. Whats the best use for a tree?\n",
        "\n",
        "\n",
        "Trees are a fundamental data structure in computer science and can be used for a wide range of applications. Here are some common use cases for trees:\n",
        "\n",
        "Representing hierarchical relationships: Trees are often used to represent hierarchical relationships between objects or data. For example, the file system on a computer can be represented as a tree structure, where each directory is a node and its subdirectories and files are its children.\n",
        "\n",
        "Storing and retrieving data: Trees can be used as a data structure for storing and retrieving data efficiently. For example, binary search trees can be used to implement search, insert, and delete operations on sorted data with a time complexity of O(log n) in the average case.\n",
        "\n",
        "Parsing expressions: Trees can be used to parse expressions and represent them in a structured form. For example, an arithmetic expression can be represented as a binary expression tree, where each node represents an operator and its children represent the operands.\n",
        "\n",
        "Decision-making: Trees can be used for decision-making tasks such as classification and regression. Decision trees are a popular machine learning technique that can be used to model complex decision-making processes by recursively partitioning the input space.\n",
        "\n",
        "Graphical representations: Trees can be used to represent graphical structures, such as phylogenetic trees in biology, or network topologies in computer networks.\n",
        "\n",
        "These are just a few examples of the many uses of trees in computer science. The choice of tree structure depends on the specific application and the requirements of the problem being solved."
      ],
      "metadata": {
        "id": "CEnKVrEel0rW"
      }
    },
    {
      "cell_type": "markdown",
      "source": [
        "## What about using trees on multiplexing datagram\n",
        "Trees can be used in multiplexing datagram to efficiently route data packets to their destinations. One way to do this is by using a prefix tree, also known as a trie.\n",
        "\n",
        "In this approach, each node in the prefix tree represents a prefix of the possible packet destinations. For example, in a network with IP addresses in the form 192.168.x.x, the first level of the prefix tree would have four child nodes representing the values 192, 193, 194, and so on. Each of these child nodes would have its own children representing the second and third octets of the IP address.\n",
        "\n",
        "When a packet arrives, its destination IP address is matched against the prefixes in the prefix tree starting from the root node. At each level, the corresponding child node is selected based on the value of the next octet of the IP address. This process continues until a leaf node is reached, which corresponds to the final destination of the packet.\n",
        "\n",
        "Using a prefix tree for multiplexing datagram allows for efficient routing of packets with minimal overhead, as the size of the tree is proportional to the number of unique prefixes in the network, which is typically much smaller than the total number of addresses. Moreover, prefix trees can be efficiently stored and searched, making them a good choice for high-speed network routers and switches."
      ],
      "metadata": {
        "id": "dQu-9o4Dl1Hu"
      }
    },
    {
      "cell_type": "markdown",
      "source": [
        "## 5. What is the temporary complexity of inserting an element in a balanced tree in the worst case?\n",
        "\n",
        "\n",
        "The time complexity of inserting an element in a balanced tree in the worst case is O(log n), where n is the number of nodes in the tree.\n",
        "\n",
        "In a balanced tree, such as an AVL tree or a red-black tree, the height of the tree is guaranteed to be O(log n), where n is the number of nodes in the tree. This means that the maximum number of levels in the tree is proportional to log n, which is the upper bound on the time complexity of insertion.\n",
        "\n",
        "To insert an element in a balanced tree, the algorithm first performs a search to find the correct position for the new node. This search takes O(log n) time in the worst case, since it involves traversing the tree from the root to the leaf node where the new element should be inserted.\n",
        "\n",
        "Once the correct position is found, the new node is inserted and the tree is rebalanced if necessary. The rebalancing process involves updating the heights and balances of the affected nodes and performing rotations if necessary to maintain the balance property of the tree. This process takes constant time per node, and since the height of the tree is O(log n), the total time complexity of rebalancing is also O(log n).\n",
        "\n",
        "Therefore, the overall time complexity of inserting an element in a balanced tree in the worst case is O(log n)."
      ],
      "metadata": {
        "id": "XdKZnAc8mNnO"
      }
    },
    {
      "cell_type": "markdown",
      "source": [
        "## 6. What algorithm use for a very large array stored in a disk that doesnt fit memory?\n",
        "\n",
        "When dealing with a very large array that cannot fit into memory, one common approach is to use external sorting algorithms. External sorting algorithms are designed to work with data that is stored on disk or in other external storage devices and can handle very large datasets that cannot fit into memory.\n",
        "\n",
        "One commonly used external sorting algorithm is the external merge sort. In this algorithm, the large array is divided into smaller chunks or blocks that can fit into memory. Each block is sorted individually using an in-memory sorting algorithm, such as quicksort or mergesort.\n",
        "\n",
        "Once all the blocks have been sorted, they are merged together into a single sorted array using a merge step. The merge step involves merging pairs of blocks at a time and writing the results back to disk. This process is repeated until all the blocks have been merged into a single sorted array.\n",
        "\n",
        "The advantage of the external merge sort algorithm is that it can handle very large datasets that cannot fit into memory. The trade-off is that it requires multiple passes over the data and involves a lot of disk I/O, which can be slow compared to in-memory sorting algorithms.\n",
        "\n",
        "Other external sorting algorithms include polyphase merge sort, replacement selection sort, and distribution sort. The choice of algorithm depends on the specific requirements of the application, the size of the dataset, and the available resources."
      ],
      "metadata": {
        "id": "G0-3ghZKmODP"
      }
    },
    {
      "cell_type": "markdown",
      "source": [
        "## 7. A local variable is declared within a method?\n",
        "\n",
        "Yes, a local variable is a variable that is declared within a method or a block of code in a program.\n",
        "\n",
        "Local variables are typically used to store temporary data that is only needed within a specific method or block of code. Once the method or block of code completes execution, the local variables are destroyed and their memory is freed up.\n",
        "\n",
        "Local variables have a limited scope, meaning they can only be accessed within the method or block of code where they are declared. They are not visible or accessible outside of their scope, which helps to prevent naming conflicts and ensures data privacy."
      ],
      "metadata": {
        "id": "gmaiVo-amccb"
      }
    },
    {
      "cell_type": "markdown",
      "source": [
        "## 8. How is called when defining two methods with the same name but with different parameters?\n",
        "\n",
        "When you define two or more methods with the same name but with different parameters, it is called method overloading.\n",
        "\n",
        "Method overloading allows you to define multiple methods with the same name, but with different parameter lists. This can make your code more flexible and easier to use, as it allows you to provide different versions of a method that can handle different types of inputs."
      ],
      "metadata": {
        "id": "r69hRQXamc4O"
      }
    },
    {
      "cell_type": "markdown",
      "source": [
        "## 9. When occurs polymorphism?\n",
        "\n",
        "Polymorphism is a core concept in object-oriented programming that refers to the ability of objects of different types to be treated as if they are the same type.\n",
        "\n",
        "There are two types of polymorphism: compile-time polymorphism and runtime polymorphism.\n",
        "\n",
        "Compile-time polymorphism occurs when the compiler determines which method to call based on the number and types of the arguments passed to the method. This is also known as method overloading, which we discussed in the previous question.\n",
        "\n",
        "Runtime polymorphism, on the other hand, occurs when the method to be called is determined at runtime based on the actual type of the object that the method is being called on. This is achieved through inheritance and method overriding."
      ],
      "metadata": {
        "id": "NrwBPWBymdT4"
      }
    },
    {
      "cell_type": "markdown",
      "source": [
        "## 10. If an attribute is private what methods have acces to it?\n",
        "\n",
        "\n",
        "If an attribute is marked as private, it can only be accessed by methods within the same class. This is an example of encapsulation, a fundamental concept in object-oriented programming that refers to the practice of hiding the implementation details of an object from the outside world.\n",
        "\n",
        "When an attribute is marked as private, it can only be accessed and modified by the methods that belong to the same class. This helps to prevent external code from directly accessing or modifying the internal state of the object, which can lead to unexpected behavior and bugs."
      ],
      "metadata": {
        "id": "F2swZXdrmd4c"
      }
    },
    {
      "cell_type": "markdown",
      "source": [
        "## 11. Whats a derived class?\n",
        "\n",
        "In object-oriented programming, a derived class is a class that is derived or created from an existing class, also known as the base or parent class. The derived class inherits the properties and behavior of the parent class, and can also add new properties and behavior, or modify the behavior of the parent class through method overriding.\n",
        "\n",
        "A derived class can be thought of as a specialized version of the parent class, with additional features or behavior. The derived class inherits all the properties and methods of the parent class, and can also add new properties and methods specific to its own behavior."
      ],
      "metadata": {
        "id": "SNYRZhFinBOu"
      }
    },
    {
      "cell_type": "markdown",
      "source": [
        "## 12. Is it anything to do with encapsulation?\n",
        "\n",
        "\n",
        "Yes, derived classes are related to encapsulation in object-oriented programming. Encapsulation is the practice of hiding the internal details of an object and exposing only the necessary interfaces to interact with the object. Inheritance, which is the mechanism that allows us to create derived classes, is a form of encapsulation.\n",
        "\n",
        "By creating a derived class, we are extending the functionality of a base or parent class without exposing its internal implementation details to the outside world. The derived class can access and modify the protected and public members of the base class, but not its private members, which remain hidden and encapsulated.\n",
        "\n",
        "Inheritance also allows us to create reusable code by defining a base class with common attributes and behavior, and then creating derived classes that specialize or extend the functionality of the base class. This promotes code reuse, reduces code duplication, and enhances the maintainability of the codebase.\n",
        "\n",
        "In summary, derived classes are an example of encapsulation in object-oriented programming, as they allow us to extend the functionality of a base class while hiding its internal implementation details."
      ],
      "metadata": {
        "id": "r3DzgmYEnBn0"
      }
    },
    {
      "cell_type": "markdown",
      "source": [
        "## 13.  Whats inheritance?\n",
        "\n",
        "\n",
        "Inheritance is a fundamental concept in object-oriented programming that allows us to define a new class based on an existing class. The new class, also known as the derived or subclass, inherits the properties and behavior of the existing class, also known as the base or superclass.\n",
        "\n",
        "The derived class can then add new properties and behavior or override existing ones, which allows us to create specialized versions of the base class without having to rewrite the code from scratch. This promotes code reuse, reduces code duplication, and enhances the maintainability of the codebase.\n",
        "\n",
        "Inheritance is often depicted as an \"is-a\" relationship, where the derived class is a type of the base class. For example, a \"Car\" class could be a base class, and a \"SportsCar\" class and a \"FamilyCar\" class could be derived classes that inherit from the \"Car\" class. The \"SportsCar\" and \"FamilyCar\" classes are both types of cars, but they have specific properties and behavior that differentiate them from each other and from the base \"Car\" class."
      ],
      "metadata": {
        "id": "GJDivht8nCH-"
      }
    },
    {
      "cell_type": "markdown",
      "source": [
        "## 14. What is abstraction?\n",
        "\n",
        "\n",
        "Abstraction is a fundamental concept in object-oriented programming that allows us to simplify complex systems by focusing on the essential features and ignoring the implementation details. Abstraction is the process of identifying the essential properties and behavior of an object and creating a simplified representation of it in code.\n",
        "\n",
        "Abstraction involves creating abstract classes or interfaces that define a set of common properties and methods that are shared by a group of related objects. These abstract classes and interfaces serve as a blueprint for creating concrete classes that implement the common properties and methods.\n",
        "\n",
        "Abstraction allows us to design and implement complex systems by breaking them down into smaller, more manageable components. By abstracting away the implementation details, we can focus on the essential properties and behavior of an object, which makes the code more flexible, reusable, and maintainable."
      ],
      "metadata": {
        "id": "5desL9CJnCmL"
      }
    },
    {
      "cell_type": "markdown",
      "source": [
        "## 15. Explain what does the next code: def a(b,c,d) : pass\n",
        "\n",
        "\n",
        "The code def a(b, c, d): pass is a function definition in Python.\n",
        "\n",
        "The keyword def is used to define a function in Python. In this case, the function is named a and it takes three parameters: b, c, and d.\n",
        "\n",
        "The body of the function is represented by the statement pass. In Python, pass is a null statement that does nothing. It is often used as a placeholder when the body of a function or a loop is not yet implemented, but the syntax requires a statement to be present.\n",
        "\n",
        "So, the function a in this code does not do anything, but it can be used as a placeholder for a function that will take three parameters"
      ],
      "metadata": {
        "id": "ZuoW4ulTnXwP"
      }
    },
    {
      "cell_type": "markdown",
      "source": [
        "## 16. Is double a valid type in python?\n",
        "\n",
        "Yes and no.\n",
        "\n",
        "In Python, there is a built-in type called float which is used to represent floating-point numbers. Floating-point numbers are real numbers with a decimal point, such as 3.14 or 0.25.\n",
        "\n",
        "The float type can represent numbers with up to 15 decimal places of precision, which should be sufficient for most purposes. In Python, we can use the float type to represent decimal numbers, scientific notation, and other types of real numbers.\n",
        "\n",
        "However, there is no built-in type called double in Python. The double type is a specific data type in some other programming languages, such as C++ and Java, but it is not used in Python. Instead, Python uses the float type to represent floating-point numbers with double precision.\n",
        "\n",
        "So, while double is not a valid type in Python, we can use the float type to achieve similar functionality."
      ],
      "metadata": {
        "id": "06srYf_7nYKw"
      }
    },
    {
      "cell_type": "markdown",
      "source": [
        "## 17. What is the output for def a(): return 10 type(a)\n",
        "\n",
        "The output of the code def a(): return 10; type(a) would be <class 'function'>.\n",
        "\n",
        "In this code, we define a function named a that takes no arguments and returns the integer value 10. We can use the return statement to specify the value that the function should return when it is called.\n",
        "\n",
        "After defining the function a, we use the type() built-in function to get the type of a. In this case, a is a function, so the output would be <class 'function'>.\n",
        "\n",
        "So the final output of this code would be the string <class 'function'>."
      ],
      "metadata": {
        "id": "9i291KSOnYcp"
      }
    },
    {
      "cell_type": "markdown",
      "source": [
        "## 18. In python what is the result for the operation 5//2\n",
        "\n",
        "\n",
        "In Python, the // operator is used for integer division, which returns the quotient of the division rounded down to the nearest integer.\n",
        "\n",
        "So the operation 5 // 2 would return 2, because 2 is the largest integer that is less than or equal to the result of 5/2 (which is 2.5).\n",
        "\n",
        "Therefore, the result of the operation 5 // 2 in Python is 2."
      ],
      "metadata": {
        "id": "54LiKFE-nseK"
      }
    },
    {
      "cell_type": "markdown",
      "source": [
        "# Coding Problems\n"
      ],
      "metadata": {
        "id": "WLY06KllsFeK"
      }
    },
    {
      "cell_type": "markdown",
      "source": [
        "## 1.1 Your task is to implement a simple container of integer numbers. As a first step, consider implementing the following two operations:\n",
        "\n",
        "ADD <value> should add the specified integer value to the container. Returns an empty string.\n",
        "EXISTS <value> should check whether the specific integer value exists in the container. Returns \"true\" if the value exists, \"false\" otherwise.\n",
        "The container is supposed to be empty at the beginning of execution.\n",
        "\n",
        "Given a list of queries, return the list of answers for these queries. To pass to the next level you have to pass all tests at this level.          Example\n",
        "\n",
        "For\n",
        "queries = [\n",
        "    [\"ADD\", \"1\"],\n",
        "    [\"ADD\", \"2\"],\n",
        "    [\"ADD\", \"5\"],\n",
        "    [\"ADD\", \"2\"],\n",
        "    [\"EXISTS\", \"2\"],\n",
        "    [\"EXISTS\", \"5\"],\n",
        "    [\"EXISTS\", \"1\"],\n",
        "    [\"EXISTS\", \"4\"],\n",
        "    [\"EXISTS\", \"3\"],\n",
        "    [\"EXISTS\", \"0\"]\n",
        "]\n",
        "the output should be solution(queries) = [\"\", \"\", \"\", \"\", \"true\", \"true\", \"true\", \"false\", \"false\", \"false\"].\n",
        "\n",
        "Explanation:\n",
        "\n",
        "Add 1, 2, 5, 2 -> [1, 2, 5, 2]\n",
        "Numbers 2, 5, 1 exist in the container\n",
        "Numbers 4, 3, 0 don't exist in the container"
      ],
      "metadata": {
        "id": "I6cD3AB-nsz4"
      }
    },
    {
      "cell_type": "code",
      "source": [
        "class Container:\n",
        "    def __init__(self):\n",
        "        self.values = set()  # creates an empty set to store integer values\n",
        "        \n",
        "    def add(self, value):\n",
        "        self.values.add(int(value))  # adds the integer value to the set of values\n",
        "        return \"\"  # returns an empty string as specified in the problem statement\n",
        "    \n",
        "    def exists(self, value):\n",
        "        return str(int(value) in self.values).lower()  # returns \"true\" if value is in the set, \"false\" otherwise\n",
        "    \n",
        "def solution(queries):\n",
        "    container = Container()  # creates an instance of the Container class\n",
        "    result = []  # creates an empty list to store the results of the queries\n",
        "    for query in queries:  # iterates over each query in the input list of queries\n",
        "        if query[0] == \"ADD\":  # checks if the query is of type \"ADD\"\n",
        "            result.append(container.add(query[1]))  # adds the result of the add operation to the result list\n",
        "        elif query[0] == \"EXISTS\":  # checks if the query is of type \"EXISTS\"\n",
        "            result.append(container.exists(query[1]))  # adds the result of the exists operation to the result list\n",
        "    return result  # returns the list of results for all queries in the input list\n"
      ],
      "metadata": {
        "id": "eftd9tivqLeF"
      },
      "execution_count": 1,
      "outputs": []
    },
    {
      "cell_type": "markdown",
      "source": [
        "Overall, the code defines a Container class with two methods add and exists. The add method adds an integer value to the container and returns an empty string, while the exists method checks if a given integer value exists in the container and returns a string representation of the boolean result.\n",
        "\n",
        "The solution function takes a list of queries as input, creates an instance of the Container class, and iterates over each query in the list. For each query, it calls either the add or exists method of the Container instance and appends the result to a list of results. Finally, it returns the list of results for all queries in the input list."
      ],
      "metadata": {
        "id": "kmbXUa_RntQ5"
      }
    },
    {
      "cell_type": "markdown",
      "source": [
        "## 1.2 The next step is to support removal from the container:\n",
        "\n",
        "REMOVE <value> should remove a single occurrence of the specified value from the container. If the value has multiple occurrences, only one of them should be removed.\n",
        "Previous level functionality should remain the same. To pass to the next level you have to pass all tests at this level.\n",
        "\n",
        "Given a list of queries, return the list of answers for these queries.              Example\n",
        "\n",
        "For\n",
        "queries = [\n",
        "    [\"ADD\", \"1\"],\n",
        "    [\"ADD\", \"2\"],\n",
        "    [\"ADD\", \"2\"],\n",
        "    [\"ADD\", \"3\"],\n",
        "    [\"EXISTS\", \"1\"],\n",
        "    [\"EXISTS\", \"2\"],\n",
        "    [\"EXISTS\", \"3\"],\n",
        "    [\"REMOVE\", \"2\"],\n",
        "    [\"REMOVE\", \"1\"],\n",
        "    [\"EXISTS\", \"2\"],\n",
        "    [\"EXISTS\", \"1\"]\n",
        "]\n",
        "the output should be solution(queries) = [\"\", \"\", \"\", \"\", \"true\", \"true\", \"true\", \"true\", \"true\", \"true\", \"false\"]."
      ],
      "metadata": {
        "id": "iXJFn1I5ntu2"
      }
    },
    {
      "cell_type": "code",
      "source": [
        "\n",
        "class Container:\n",
        "    def __init__(self):\n",
        "        self.values = []\n",
        "        \n",
        "    def add(self, value):\n",
        "        self.values.append(int(value))\n",
        "        return \"\"\n",
        "    \n",
        "    def exists(self, value):\n",
        "        return str(int(value) in self.values).lower()\n",
        "    \n",
        "    def remove(self, value):\n",
        "        # Check if the value is in the list, and remove it if so\n",
        "        # Return \"true\" if value was removed, \"false\" otherwise\n",
        "        if int(value) in self.values:\n",
        "            self.values.remove(int(value))\n",
        "            return \"true\"\n",
        "        return \"false\"\n",
        "        \n",
        "def solution(queries):\n",
        "    container = Container()\n",
        "    result = []\n",
        "    for query in queries:\n",
        "        if query[0] == \"ADD\":\n",
        "            result.append(container.add(query[1]))\n",
        "        elif query[0] == \"EXISTS\":\n",
        "            result.append(container.exists(query[1]))\n",
        "        elif query[0] == \"REMOVE\":\n",
        "            result.append(container.remove(query[1]))\n",
        "    return result\n",
        "\n"
      ],
      "metadata": {
        "id": "u4MM9ByIq8f_"
      },
      "execution_count": 2,
      "outputs": []
    },
    {
      "cell_type": "markdown",
      "source": [
        "## 1.3 The next step is to support the operation for finding the nearest integer in the container greater than the provided one:\n",
        "\n",
        "GET_NEXT <value> should return the minimal integer in the container that is strictly greater than the provided value. In case there is no such integer in the container, return empty string.\n",
        "Previous levels functionality should remain the same. To pass to the next level you have to pass all tests at this level.\n",
        "\n",
        "Given a list of queries, return the list of answers for these queries.                         Example\n",
        "\n",
        "For\n",
        "queries = [\n",
        "    [\"ADD\", \"1\"],\n",
        "    [\"ADD\", \"2\"],\n",
        "    [\"ADD\", \"2\"],\n",
        "    [\"ADD\", \"4\"],\n",
        "    [\"GET_NEXT\", \"1\"],\n",
        "    [\"GET_NEXT\", \"2\"],\n",
        "    [\"GET_NEXT\", \"3\"],\n",
        "    [\"GET_NEXT\", \"4\"],\n",
        "    [\"REMOVE\", \"2\"],\n",
        "    [\"GET_NEXT\", \"1\"],\n",
        "    [\"GET_NEXT\", \"2\"],\n",
        "    [\"GET_NEXT\", \"3\"],\n",
        "    [\"GET_NEXT\", \"4\"]\n",
        "]\n",
        "the output should be solution(queries) = [\"\", \"\", \"\", \"\", \"2\", \"4\", \"4\", \"\", \"true\", \"2\", \"4\", \"4\", \"\"].                       Explanation:\n",
        "\n",
        "Add 1, 2, 2, 4 -> [1, 2, 2, 4]\n",
        "Get Next 1 -> \"2\"\n",
        "Get Next 2 -> \"4\"\n",
        "Get Next 3 -> \"4\"\n",
        "Get Next 4 -> \"\"\n",
        "Remove 2 -> [1, 2, 4]\n",
        "Get Next 1 -> \"2\"\n",
        "Get Next 2 -> \"4\"\n",
        "Get Next 3 -> \"4\"\n",
        "Get Next 4 -> \"\""
      ],
      "metadata": {
        "id": "UUfsGvCbrhqC"
      }
    },
    {
      "cell_type": "code",
      "source": [
        "class Container:\n",
        "    def __init__(self):\n",
        "        self.values = []\n",
        "        \n",
        "    def add(self, value):\n",
        "        self.values.append(int(value))\n",
        "        return \"\"\n",
        "    \n",
        "    def exists(self, value):\n",
        "        return str(int(value) in self.values).lower()\n",
        "    \n",
        "    def remove(self, value):\n",
        "        # Check if the value is in the list, and remove it if so\n",
        "        # Return \"true\" if value was removed, \"false\" otherwise\n",
        "        if int(value) in self.values:\n",
        "            self.values.remove(int(value))\n",
        "            return \"true\"\n",
        "        return \"false\"\n",
        "    \n",
        "    def get_next(self, value):\n",
        "        next_int = \"\"\n",
        "        for val in sorted(self.values):\n",
        "            if val > int(value):\n",
        "                next_int = str(val)\n",
        "                break\n",
        "        return next_int\n",
        "\n",
        "def solution(queries):\n",
        "    container = Container()\n",
        "    result = []\n",
        "    for query in queries:\n",
        "        if query[0] == \"ADD\":\n",
        "            result.append(container.add(query[1]))\n",
        "        elif query[0] == \"EXISTS\":\n",
        "            result.append(container.exists(query[1]))\n",
        "        elif query[0] == \"REMOVE\":\n",
        "            result.append(container.remove(query[1]))\n",
        "        elif query[0] == \"GET_NEXT\":\n",
        "            result.append(container.get_next(query[1]))\n",
        "    return result\n"
      ],
      "metadata": {
        "id": "A5Gu710brnmP"
      },
      "execution_count": 3,
      "outputs": []
    },
    {
      "cell_type": "markdown",
      "source": [
        "## 2.1  Your task is to implement a simple cloud storage system that maps objects (files) to their meta information. Specifically, the storage should maintain files along with some information about them (name, size, etc.). Plan your design according to the level specifications below (current level is in bold):\n",
        "\n",
        "Level 1: The cloud storage system should support adding new files, retrieving files, and copying files.\n",
        "Level 2: The cloud storage system should support finding file by matching prefixes and suffixes.\n",
        "Level 3: The cloud storage system should support adding users with various capacity limits.\n",
        "Level 4: The cloud storage system should support compressing and decompressing files.\n",
        "To move to the next level, you need to pass all the tests at this level.\n",
        "\n",
        "Note\n",
        "\n",
        "Each query will only call one operation. It is guaranteed that the given queries will never call operations that result in collisions between file names and directory names.\n",
        "\n",
        "Level 1\n",
        "The cloud storage system should support operations to add files, copy files, and get files stored on the system.\n",
        "\n",
        "ADD_FILE <name> <size> - should add a new file with name name to the storage. size is the amount of memory required in bytes. If a file with the same name name already exists, the current operation fails. Returns \"true\" if the file was added successfully, or \"false\" otherwise.\n",
        "\n",
        "COPY_FILE <name_from> <name_to> — should copy the file at name_from to name_to. If name_from points to a file that does not exist, or points to a directory, the operation fails. If a file already exists at name_to, the operation fails. Returns \"true\" if the file was copied successfully, or \"false\" otherwise.\n",
        "\n",
        "GET_FILE_SIZE <name> — should return a string representing the size of the file name if it exists, or an empty string otherwise.\n",
        "\n",
        "The example below shows how these operations should work (please note the section is scrollable to the right):\n",
        "\n",
        "Queries\tExplanations\n",
        "queries = [\n",
        "  [\"ADD_FILE\", \"/dir1/dir2/file.txt\", \"10\"],\n",
        "  [\"COPY_FILE\", \"/not-existing.file\", \"/dir1/file.txt\"],\n",
        "  [\"COPY_FILE\", \"/dir1/dir2/file.txt\", \"/dir1/file.txt\"],\n",
        "  [\"ADD_FILE\", \"/dir1/file.txt\", \"15\"],\n",
        "  [\"COPY_FILE\", \"/dir1/file.txt\", \"/dir1/dir2/file.txt\"],\n",
        "  [\"GET_FILE_SIZE\", \"/dir1/file.txt\"],\n",
        "  [\"GET_FILE_SIZE\", \"/not-existing.file\"]\n",
        "]             the output should be [\"true\", \"false\", \"true\", \"false\", \"false\", \"10\", \"\"]."
      ],
      "metadata": {
        "id": "9X4LSuqtsS0l"
      }
    },
    {
      "cell_type": "code",
      "source": [
        "class CloudStorage:\n",
        "    def __init__(self):\n",
        "        self.files = {}\n",
        "\n",
        "    def add_file(self, name, size):\n",
        "        if name in self.files:\n",
        "            return \"false\"\n",
        "        self.files[name] = int(size)\n",
        "        return \"true\"\n",
        "\n",
        "    def copy_file(self, name_from, name_to):\n",
        "        if name_from not in self.files or name_to in self.files:\n",
        "            return \"false\"\n",
        "        self.files[name_to] = self.files[name_from]\n",
        "        return \"true\"\n",
        "\n",
        "    def get_file_size(self, name):\n",
        "        return str(self.files.get(name, \"\"))\n",
        "    \n",
        "\n",
        "def solution(queries):\n",
        "    storage = CloudStorage()\n",
        "    results = []\n",
        "    for q in queries:\n",
        "        if q[0] == \"ADD_FILE\":\n",
        "            results.append(storage.add_file(q[1], q[2]))\n",
        "        elif q[0] == \"COPY_FILE\":\n",
        "            results.append(storage.copy_file(q[1], q[2]))\n",
        "        elif q[0] == \"GET_FILE_SIZE\":\n",
        "            results.append(storage.get_file_size(q[1]))\n",
        "    return results\n"
      ],
      "metadata": {
        "id": "_fVENrt8sehM"
      },
      "execution_count": 4,
      "outputs": []
    },
    {
      "cell_type": "markdown",
      "source": [
        "## 2.2 Your task is to implement a simple cloud storage system that maps objects (files) to their meta information. Specifically, the storage should maintain files along with some information about them (name, size, etc.). Plan your design according to the level specifications below (current level is in bold):\n",
        "\n",
        "Level 1: The cloud storage system should support adding a new file, as well as retrieving and copying it.\n",
        "\n",
        "Expand to see level 1 details.\n",
        "Level 2: The cloud storage system should support finding file by matching prefixes and suffixes.\n",
        "\n",
        "Level 3: The cloud storage system should support adding users with various capacity limits.\n",
        "\n",
        "Level 4: The cloud storage system should support compressing and decompressing files.\n",
        "\n",
        "To move to the next level, you need to pass all the tests at this level.\n",
        "\n",
        "Note\n",
        "\n",
        "Each query will only call one operation. It is guaranteed that the given queries will never call operations that result in collisions between file names and directory names\n",
        "\n",
        "Level 2\n",
        "Implement support for retrieving file names by searching directories.\n",
        "\n",
        "FIND_FILE <prefix> <suffix> — should search for files with names starting with prefix and ending with file_suffix. Returns a string representing all matching files in this format: \"<name_1>(<size1>), <name_2>(<size2>), ...\". The output should be sorted in descending order of files sizes, or, in case of ties, lexicographically. If no files match the required properties, returns \"\".\n",
        "The example below shows how these operations should work:\n",
        "\n",
        "Queries\tExplanations\n",
        "queries = [\n",
        "  [\"ADD_FILE\", \"/root/dir/another_dir/file.mp3\", \"10\"],\n",
        "  [\"ADD_FILE\", \"/root/file.mp3\", \"5\"],\n",
        "  [\"ADD_FILE\", \"/root/music/file.mp3\", \"7\"],\n",
        "  [\"COPY_FILE\", \"/root/music/file.mp3\", \"/root/dir/file.mp3\"],\n",
        "  [\"FIND_FILE\", \"/root\", \".mp3\"],\n",
        "  [\"FIND_FILE\", \"/root\", \"file.txt\"],\n",
        "  [\"FIND_FILE\", \"/dir\", \"file.mp3\"]\n",
        "]\n",
        "\n",
        "returns \"true\"\n",
        "returns \"true\"\n",
        "returns \"true\"\n",
        "returns \"true\"\n",
        "returns \"/root/dir/another_dir/file.mp3(10), /root/dir/file.mp3(7), /root/music/file.mp3(7), /root/file.mp3(5)\"\n",
        "returns \"\"; there is no file with prefix \"/root\" and suffix \"file.txt\"\n",
        "returns \"\"; there is no file with prefix \"/dir\" and suffix \"file.mp3\"\n",
        "\n",
        "the output should be [\"true\", \"true\", \"true\", \"true\", \"/root/dir/another_dir/file.mp3(10), /root/dir/file.mp3(7), /root/music/file.mp3(7), /root/file.mp3(5)\", \"\", \"\"].\n",
        "\n",
        "Input/Output\n",
        "\n",
        "[execution time limit] 4 seconds (py3)\n",
        "\n",
        "[input] array.array.string queries\n",
        "\n",
        "An array of queries calling system operations. It is guaranteed that all query parameters are valid: each call one of the operations described in the description, all operation parameters are given with the correct format, and all conditions specified in operation descriptions are satisfied.\n",
        "All integers in the input are between 1 and 10000.\n",
        "\n",
        "Guaranteed constraints:\n",
        "1 ≤ queries.length ≤ 250.\n",
        "\n",
        "[output] array.string\n",
        "\n",
        "An array of strings representing the returned values of operations."
      ],
      "metadata": {
        "id": "qXsdibiKs5I7"
      }
    },
    {
      "cell_type": "code",
      "source": [
        "def solution(queries):\n",
        "    file_info = {}  # map of file paths to their info (size)\n",
        "\n",
        "    def add_file(path, size):\n",
        "        if path not in file_info:\n",
        "            file_info[path] = int(size)\n",
        "            return \"true\"\n",
        "        else:\n",
        "            return \"false\"\n",
        "\n",
        "    def get_file_size(path):\n",
        "        if path in file_info:\n",
        "            return str(file_info[path])\n",
        "        else:\n",
        "            return \"\"\n",
        "\n",
        "    def copy_file(src_path, dst_path):\n",
        "        if dst_path in file_info:\n",
        "            return \"false\"\n",
        "        elif src_path in file_info:\n",
        "            file_info[dst_path] = file_info[src_path]\n",
        "            return \"true\"\n",
        "        else:\n",
        "            return \"false\"\n",
        "\n",
        "    def find_file(prefix, suffix):\n",
        "        matching_files = []\n",
        "        for path, size in file_info.items():\n",
        "            if path.startswith(prefix) and path.endswith(suffix):\n",
        "                matching_files.append((path, size))\n",
        "        if not matching_files:\n",
        "            return \"\"\n",
        "\n",
        "        # Sort by size (descending), then path (ascending)\n",
        "        matching_files.sort(key=lambda x: (-x[1], x[0]))\n",
        "\n",
        "        # Format output string\n",
        "        output = \"\"\n",
        "        for path, size in matching_files:\n",
        "            output += f\"{path}({size}), \"\n",
        "        return output[:-2]  # remove trailing comma and space\n",
        "\n",
        "    results = []\n",
        "    for query in queries:\n",
        "        operation = query[0]\n",
        "        if operation == \"ADD_FILE\":\n",
        "            path, size = query[1], query[2]\n",
        "            results.append(add_file(path, size))\n",
        "        elif operation == \"GET_FILE_SIZE\":\n",
        "            path = query[1]\n",
        "            results.append(get_file_size(path))\n",
        "        elif operation == \"COPY_FILE\":\n",
        "            src_path, dst_path = query[1], query[2]\n",
        "            results.append(copy_file(src_path, dst_path))\n",
        "        elif operation == \"FIND_FILE\":\n",
        "            prefix, suffix = query[1], query[2]\n",
        "            results.append(find_file(prefix, suffix))\n",
        "\n",
        "    return results\n"
      ],
      "metadata": {
        "id": "bj9U8O4ms9bn"
      },
      "execution_count": 5,
      "outputs": []
    },
    {
      "cell_type": "markdown",
      "source": [
        "## 2.3 Your task is to implement a simple cloud storage system that maps objects (files) to their meta information. Specifically, the storage should maintain files along with some information about them (name, size, etc.). Plan your design according to the level specifications below (current level is in bold):\n",
        "\n",
        "Level 1: The cloud storage system should support adding new files, retrieving files, and copying files.\n",
        "\n",
        "Expand to see level 1 details.\n",
        "Level 2: The cloud storage system should support finding file by matching prefixes and suffixes.\n",
        "\n",
        "Expand to see level 2 details.\n",
        "Level 3: The cloud storage system should support adding users with various capacity limits.\n",
        "\n",
        "Level 4: The cloud storage system should support compressing and decompressing files.\n",
        "\n",
        "To move to the next level, you need to pass all the tests at this level.\n",
        "\n",
        "Note\n",
        "\n",
        "Each query will only call one operation. It is guaranteed that the given queries will never call operations that result in collisions between file names and directory names.\n",
        "\n",
        "Level 3\n",
        "Implement support for different users sending queries to the system. All users are sharing a common filesystem in the cloud storage, but each user is assigned a storage capacity limit.\n",
        "\n",
        "ADD_USER <user_id> <capacity> - should add a new user to the system, with capacity as their storage limit in bytes. The total size of all files owned by user_id cannot exceed capacity. If a user with user_id already exists, the operation fails. Returns \"true\" if the user is successfully created, or \"false\" otherwise.\n",
        "\n",
        "ADD_FILE_BY <user_id> <name> <size> - should behave in the same way as ADD_FILE from Level 1, but the added file should be owned by the user with user_id. A new file cannot be added to the storage if doing so will exceed the user's capacity limit. Returns a string representing the remaining storage capacity for user_id if the file is successfully added, or an empty string otherwise.\n",
        "\n",
        "Notes: Assume that the ADD_FILE operation implemented on Level 1 is run by the user with user_id = \"admin\", who has unlimited storage capacity. Also, assume that the COPY_FILE operation preserves the ownership of the original file.\n",
        "\n",
        "UPDATE_CAPACITY <user_id> <capacity> — should change the maximum storage capacity for the user with user_id. If the total size of all user's files exceeds the new capacity, the largest files (sorted lexicographically in case of a tie) should be removed from the storage until the total size of all remaining files no longer exceeds the new capacity. Returns a string representing the number of removed files, or an empty string if a user with user_id doesn't exist.\n",
        "The example below shows how these operations should work:\n",
        "\n",
        "Queries\tExplanations\n",
        "queries = [\n",
        "  [\"ADD_USER\", \"user1\", \"200\"],\n",
        "  [\"ADD_USER\", \"user1\", \"100\"],\n",
        "  [\"ADD_FILE_BY\", \"user1\", \"/dir/file.big\", \"50\"],\n",
        "  [\"ADD_FILE_BY\", \"user1\", \"/file.med\", \"30\"],\n",
        "  [\"COPY_FILE\", \"/file.med\", \"/dir/another/file.med\"],\n",
        "  [\"ADD_FILE_BY\", \"user1\", \"/dir/file.small\", \"10\"],\n",
        "  [\"ADD_FILE\", \"/dir/admin_file\", \"200\"],\n",
        "  [\"ADD_FILE_BY\", \"user1\", \"/dir/file.small\", \"5\"],\n",
        "  [\"ADD_FILE_BY\", \"user1\", \"/my_folder/file.huge\", \"100\"],\n",
        "  [\"ADD_FILE_BY\", \"user2\", \"/my_folder/file.huge\", \"100\"],\n",
        "  [\"UPDATE_CAPACITY\", \"user1\", \"300\"],\n",
        "  [\"UPDATE_CAPACITY\", \"user1\", \"50\"],\n",
        "\n",
        "\n",
        "  [\"UPDATE_CAPACITY\", \"user2\", \"1000\"]\n",
        "]\n",
        "\n",
        "returns \"true\"; creates user \"user1\" with 200 bytes capacity\n",
        "returns \"false\"; \"user1\" already exists\n",
        "returns \"150\"\n",
        "returns \"120\"\n",
        "returns \"true\"; (note that copying preserves the file owner)\n",
        "returns \"80\"\n",
        "returns \"true\"; this operation is done by \"admin\" with unlimited capacity\n",
        "returns \"\"; the file \"/dir/file.small\" already exists\n",
        "returns \"\"; \"user1\" doesn't have enough storage capacity left to add this file\n",
        "returns \"\"; \"user2\" doesn't exist\n",
        "returns \"0\"; all files owned by \"user1\" can fit into the new capacity of 300 bytes\n",
        "returns \"2\"; the files \"/dir/file.big\" and \"/dir/another/file.med\"\n",
        "             should be deleted so the remaining files owned by \"user1\"\n",
        "             can fit into the new capacity of 50 bytes\n",
        "returns \"\"; \"user2\" doesn't exist\n",
        "\n",
        "the output should be [\"true\", \"false\", \"150\", \"120\", \"true\", \"80\", \"true\", \"\", \"\", \"\", \"0\", \"2\", \"\"].\n",
        "\n",
        "Input/Output\n",
        "\n",
        "[execution time limit] 4 seconds (py3)\n",
        "\n",
        "[input] array.array.string queries\n",
        "\n",
        "An array of queries calling system operations. It is guaranteed that all query parameters are valid: each call one of the operations described in the description, all operation parameters are given with the correct format, and all conditions specified in operation descriptions are satisfied.\n",
        "All integers in the input are between 1 and 10000.\n",
        "\n",
        "Guaranteed constraints:\n",
        "1 ≤ queries.length ≤ 250.\n",
        "\n",
        "[output] array.string\n",
        "\n",
        "An array of strings representing the returned values of operations."
      ],
      "metadata": {
        "id": "gN0tZRaKtpt6"
      }
    },
    {
      "cell_type": "markdown",
      "source": [
        "To implement a cloud storage system that supports adding users with various capacity limits, we need to modify the data structure used to store the files. In addition to storing the file name and size, we need to store the owner of the file. We can use a dictionary to store the files and their metadata, where the keys are the file names and the values are dictionaries containing the file size and the owner.\n",
        "\n",
        "To implement the ADD_USER operation, we can use another dictionary to store the users and their capacity limits. We can check if the user already exists and return \"false\" if it does. Otherwise, we add the user to the dictionary and return \"true\".\n",
        "\n",
        "To implement the ADD_FILE_BY operation, we can first check if the user has enough capacity left to store the file. If not, we return an empty string. Otherwise, we add the file to the dictionary of files and metadata, with the owner set to the user. We also subtract the file size from the user's capacity limit and return the remaining capacity.\n",
        "\n",
        "To implement the UPDATE_CAPACITY operation, we can first check if the user exists. If not, we return an empty string. Otherwise, we update the user's capacity limit and check if the total size of all user's files exceeds the new capacity. If it does, we need to remove files until the total size no longer exceeds the new capacity. We can do this by sorting the files by size (in ascending order), and then by name (in lexicographic order), and then removing files until the total size no longer exceeds the new capacity. We return the number of removed files."
      ],
      "metadata": {
        "id": "e_ZbOjd4tycq"
      }
    },
    {
      "cell_type": "code",
      "source": [
        "## Not perfect solution\n",
        "\n",
        "def solution(queries):\n",
        "    files = {}\n",
        "    users = {}\n",
        "    results = []\n",
        "    for query in queries:\n",
        "        command = query[0]\n",
        "        if command == \"ADD_FILE\":\n",
        "            path = query[1]\n",
        "            size = int(query[2])\n",
        "            if path in files:\n",
        "                results.append(\"false\")\n",
        "            else:\n",
        "                files[path] = size\n",
        "                results.append(\"true\")\n",
        "        elif command == \"ADD_FILE_BY\":\n",
        "            user = query[1]\n",
        "            path = query[2]\n",
        "            size = int(query[3])\n",
        "            if user not in users:\n",
        "                results.append(\"false\")\n",
        "            elif path in files:\n",
        "                results.append(\"false\")\n",
        "            elif size > users[user]:\n",
        "                results.append(\"false\")\n",
        "            else:\n",
        "                files[path] = size\n",
        "                users[user] -= size\n",
        "                results.append(\"true\")\n",
        "        elif command == \"COPY_FILE\":\n",
        "            src = query[1]\n",
        "            dest = query[2]\n",
        "            if src not in files or dest in files:\n",
        "                results.append(\"false\")\n",
        "            else:\n",
        "                files[dest] = files[src]\n",
        "                results.append(\"true\")\n",
        "        elif command == \"ADD_USER\":\n",
        "            user = query[1]\n",
        "            capacity = int(query[2])\n",
        "            if user in users:\n",
        "                results.append(\"false\")\n",
        "            else:\n",
        "                users[user] = capacity\n",
        "                results.append(\"true\")\n",
        "        elif command == \"UPDATE_CAPACITY\":\n",
        "            user = query[1]\n",
        "            capacity = int(query[2])\n",
        "            if user not in users or capacity < sum(files[path] for path in files if path.startswith('/'+user)):\n",
        "                results.append(\"false\")\n",
        "            else:\n",
        "                users[user] = capacity\n",
        "                results.append(\"true\")\n",
        "        elif command == \"GET_FILE_SIZE\":\n",
        "            path = query[1]\n",
        "            if path not in files:\n",
        "                results.append(\"\")\n",
        "            else:\n",
        "                results.append(str(files[path]))\n",
        "        elif command == \"FIND_FILE\":\n",
        "            folder = query[1]\n",
        "            name = query[2]\n",
        "            found_files = [path for path in files if path.endswith('/'+name) and path.startswith(folder+'/')]\n",
        "            if found_files:\n",
        "                file_sizes = ', '.join('{}({})'.format(path, files[path]) for path in sorted(found_files))\n",
        "                results.append(file_sizes)\n",
        "            else:\n",
        "                results.append(\"\")\n",
        "    return results\n"
      ],
      "metadata": {
        "id": "hIb0nlywu0lR"
      },
      "execution_count": 6,
      "outputs": []
    }
  ]
}